{
 "cells": [
  {
   "cell_type": "markdown",
   "metadata": {},
   "source": [
    "# Python for Machine Learning FDP\n",
    "\n",
    "Author: P. Venkateswara Rao"
   ]
  },
  {
   "cell_type": "markdown",
   "metadata": {},
   "source": [
    "# Day1: Agenda"
   ]
  },
  {
   "cell_type": "markdown",
   "metadata": {},
   "source": [
    "1. [History of Python and Importance](#his)\n",
    "\n",
    "2. [Important Shortcuts](#Important_Shortcuts)\n",
    "\n",
    "3. [Comments in Python](#Comments_in_Python)\n",
    "\n",
    "4. [Variables in Python](#Variables_in_Python)\n",
    "\n",
    "5. [Print Function and read function](#pfrf)\n",
    "\n",
    "6. [Data Types in Python](#dtip)\n",
    "\n",
    "7. [Identifiers nothing but memory loacations](#inbml)\n",
    "\n",
    "8. [Operators in python](#Operators_in_python)\n",
    "\n",
    "9. [Other Operators](#oo)\n",
    "\n",
    "10. [Operations on Data Types](#oodt)\n",
    "\n",
    "11. [Strings](#s)\n",
    "\n",
    "12. [Built-in Mathematical Functions](#mf)\n",
    "\n",
    "13. [Control statements](#cs)\n",
    "\n",
    "14. [For Loop](#fl)\n",
    "\n",
    "15. [Lists](#lists)\n",
    "\n",
    "16. [Tuples](#tup)\n",
    "\n",
    "17. [Functions](#fun)\n",
    "\n",
    "18. [Questions](#que)\n",
    "\n",
    "19. [Dictionaries](#dict)\n",
    "\n",
    "20. [Sets](#sets)\n",
    "\n",
    "21. [Any Queries](#quer)"
   ]
  },
  {
   "cell_type": "markdown",
   "metadata": {},
   "source": [
    "<a id='his'></a>\n",
    "# History and Importance"
   ]
  },
  {
   "cell_type": "markdown",
   "metadata": {},
   "source": [
    "<center>\n",
    "    <img src = History_of_Python.jpg />\n",
    "    </center>"
   ]
  },
  {
   "cell_type": "markdown",
   "metadata": {},
   "source": [
    "# Python is Everywhere now"
   ]
  },
  {
   "cell_type": "markdown",
   "metadata": {},
   "source": [
    "<div style=display:flex; flex-direction:column;>\n",
    "      <img src = AI_ML_DL.png width=400 height=400 style=margin-left:-15px/>\n",
    "      <img src = programvsml.png  width=200 height=200/>\n",
    "      <img src = probability_vs_stats.png  width=200 height=200/>\n",
    "    </div>\n",
    "  "
   ]
  },
  {
   "cell_type": "markdown",
   "metadata": {},
   "source": [
    "<a id='Important_Shortcuts'></a>\n",
    "#**Important Shortcuts**\n",
    "\n",
    "*The b key will make a new cell below the currently selected cell.\n",
    "\n",
    "*The a key will make one above.\n",
    "\n",
    "*The x key will delete the current cell."
   ]
  },
  {
   "cell_type": "markdown",
   "metadata": {},
   "source": [
    "\n",
    "<a id='Comments_in_Python'></a>\n",
    "# Comments in Python\n",
    "1. A line preceded by the character ‘#’\n",
    "\n",
    "2. No Block/Multi-line Comment\n",
    "\n",
    "3. Line Continuation with ‘\\’\n",
    "\n",
    "    i.Put a ‘\\’ (backslash) character at the end of the line\n",
    "    \n",
    "    ii.Statements can be continued with ending ‘\\’\n",
    "    \n",
    "\n",
    "    "
   ]
  },
  {
   "cell_type": "code",
   "execution_count": 1,
   "metadata": {},
   "outputs": [
    {
     "name": "stdout",
     "output_type": "stream",
     "text": [
      "Python version\n",
      "3.7.6 (default, Jan  8 2020, 20:23:39) [MSC v.1916 64 bit (AMD64)]\n",
      "Version info.\n",
      "sys.version_info(major=3, minor=7, micro=6, releaselevel='final', serial=0)\n"
     ]
    }
   ],
   "source": [
    "import sys\n",
    "print(\"Python version\")\n",
    "print (sys.version)\n",
    "print(\"Version info.\")\n",
    "print (sys.version_info)"
   ]
  },
  {
   "cell_type": "markdown",
   "metadata": {},
   "source": [
    "<a id='Variables_in_Python'></a>\n",
    "# Variables in Python"
   ]
  },
  {
   "cell_type": "markdown",
   "metadata": {},
   "source": [
    "contain letters, digits, and underscores\n",
    "\n",
    "cannot start with digit\n",
    "\n",
    "case sensitive"
   ]
  },
  {
   "cell_type": "code",
   "execution_count": 3,
   "metadata": {},
   "outputs": [],
   "source": [
    "age = 38\n",
    "name = 'Pvrao'"
   ]
  },
  {
   "cell_type": "markdown",
   "metadata": {},
   "source": [
    "<a id='pfrf'></a>\n",
    "# Print Function and read function"
   ]
  },
  {
   "cell_type": "code",
   "execution_count": 4,
   "metadata": {},
   "outputs": [
    {
     "name": "stdout",
     "output_type": "stream",
     "text": [
      "38\n",
      "Pvrao\n"
     ]
    }
   ],
   "source": [
    "print(age)\n",
    "print(name)"
   ]
  },
  {
   "cell_type": "code",
   "execution_count": 5,
   "metadata": {},
   "outputs": [
    {
     "name": "stdout",
     "output_type": "stream",
     "text": [
      "age= 38\n",
      "name= Pvrao\n"
     ]
    }
   ],
   "source": [
    "print(\"age=\",age)\n",
    "print(\"name=\",name)"
   ]
  },
  {
   "cell_type": "code",
   "execution_count": 6,
   "metadata": {},
   "outputs": [
    {
     "name": "stdout",
     "output_type": "stream",
     "text": [
      "Enter the age45\n",
      "45\n"
     ]
    }
   ],
   "source": [
    "age = int(input('Enter the age'))\n",
    "print(age)"
   ]
  },
  {
   "cell_type": "code",
   "execution_count": 7,
   "metadata": {},
   "outputs": [
    {
     "name": "stdout",
     "output_type": "stream",
     "text": [
      "Enter namevnr\n",
      "vnr\n"
     ]
    }
   ],
   "source": [
    "name = input('Enter name')\n",
    "print(name)"
   ]
  },
  {
   "cell_type": "markdown",
   "metadata": {},
   "source": [
    "# String Formatting"
   ]
  },
  {
   "cell_type": "code",
   "execution_count": 3,
   "metadata": {},
   "outputs": [
    {
     "data": {
      "text/plain": [
       "'      3.14'"
      ]
     },
     "execution_count": 3,
     "metadata": {},
     "output_type": "execute_result"
    }
   ],
   "source": [
    "'%10.2f' % (3.141592653589793,)"
   ]
  },
  {
   "cell_type": "code",
   "execution_count": 7,
   "metadata": {},
   "outputs": [
    {
     "name": "stdout",
     "output_type": "stream",
     "text": [
      "Python 3.6\n",
      "Pytho 3.7\n"
     ]
    }
   ],
   "source": [
    "strNew = \"{:5s} {:.1f}\".format('Python', 3.64)\n",
    "print(strNew)\n",
    "strNew = \"{:.5s} {:.1f}\".format('Python', 3.66)\n",
    "print(strNew)"
   ]
  },
  {
   "cell_type": "code",
   "execution_count": 9,
   "metadata": {},
   "outputs": [
    {
     "name": "stdout",
     "output_type": "stream",
     "text": [
      "0000003.14\n",
      "2.7183    \n",
      "0000003.14\n",
      "    2.7183\n"
     ]
    }
   ],
   "source": [
    "import math\n",
    "print('%010.2f' % (math.pi,))\n",
    "print('%-10.4f' % (math.e))\n",
    "print('{:010.2f}'.format(math.pi,))\n",
    "print('{:10.4f}'.format(math.e))"
   ]
  },
  {
   "cell_type": "code",
   "execution_count": 13,
   "metadata": {},
   "outputs": [
    {
     "name": "stdout",
     "output_type": "stream",
     "text": [
      "Python 3\n",
      "Python 3\n",
      "Python 3\n",
      "Python 3\n",
      "Python 3\n",
      "Python 3\n",
      "Python 3\n"
     ]
    }
   ],
   "source": [
    "strOld = \"%s %d\" % ('Python', 3)\n",
    "print(strOld)\n",
    "strNew = \"{} {}\".format('Python', 3)\n",
    "print(strNew)\n",
    "strPos = \"{1} {0}\".format(3, 'Python')\n",
    "print(strPos)\n",
    "strOld = \"%(lang)s %(ver)d\" % {'ver':3, 'lang':'Python'}\n",
    "print(strPos)\n",
    "kwargs = {'ver':3, 'lang':'Python'}\n",
    "strNew1 = \"{lang} {ver}\".format(**kwargs)\n",
    "print(strNew1)\n",
    "strKey2 = \"{lang} {ver}\".format(** {'ver':3, 'lang':'Python'})\n",
    "print(strKey2)\n",
    "strKey3 = \"{lang} {ver}\".format(ver=3, lang='Python')\n",
    "print(strKey3)"
   ]
  },
  {
   "cell_type": "code",
   "execution_count": 16,
   "metadata": {},
   "outputs": [
    {
     "name": "stdout",
     "output_type": "stream",
     "text": [
      "Hello World         \n",
      "         Hello World\n",
      "    Hello World     \n",
      "=========Hello World\n",
      "****Hello World*****\n",
      "     3.142\n",
      "000003.142\n",
      "    -3.142\n",
      "-----3.142\n",
      "---3.142--\n",
      "00-3.14200\n"
     ]
    }
   ],
   "source": [
    "text = \"Hello World\"\n",
    "print(format(text, '<20'))\n",
    "print(format(text, '>20'))\n",
    "print(format(text, '^20'))\n",
    "print(format(text, '=>20s'))\n",
    "print(format(text, '*^20s'))\n",
    "import math\n",
    "print(format(math.pi, '>10.4'))\n",
    "print(format(math.pi, '>010.4'))\n",
    "print(format(-math.pi, '>-10.4'))\n",
    "print(format(-math.pi, '->10.4'))\n",
    "print(format(-math.pi, '-^10.4'))\n",
    "print(format(-math.pi, '0^10.4'))"
   ]
  },
  {
   "cell_type": "markdown",
   "metadata": {},
   "source": [
    "<a id='dtip'></a>\n",
    "# Data Types in Python\n",
    "\n",
    "1. String\n",
    "2. Int\n",
    "3. Float\n",
    "4. Bool"
   ]
  },
  {
   "cell_type": "code",
   "execution_count": 2,
   "metadata": {},
   "outputs": [],
   "source": [
    "ex_string = 'Hello World!'\n",
    "ex_int = 8\n",
    "ex_float = 12.5\n",
    "ex_bool = False"
   ]
  },
  {
   "cell_type": "code",
   "execution_count": 10,
   "metadata": {},
   "outputs": [
    {
     "name": "stdout",
     "output_type": "stream",
     "text": [
      "<class 'str'>\n",
      "<class 'int'>\n",
      "<class 'float'>\n",
      "<class 'bool'>\n"
     ]
    }
   ],
   "source": [
    "print(type(ex_string))\n",
    "print(type(ex_int))\n",
    "print(type(ex_float))\n",
    "print(type(ex_bool))"
   ]
  },
  {
   "cell_type": "code",
   "execution_count": 11,
   "metadata": {},
   "outputs": [
    {
     "data": {
      "text/plain": [
       "str"
      ]
     },
     "execution_count": 11,
     "metadata": {},
     "output_type": "execute_result"
    }
   ],
   "source": [
    "type(ex_string)"
   ]
  },
  {
   "cell_type": "code",
   "execution_count": 12,
   "metadata": {},
   "outputs": [
    {
     "data": {
      "text/plain": [
       "int"
      ]
     },
     "execution_count": 12,
     "metadata": {},
     "output_type": "execute_result"
    }
   ],
   "source": [
    "type(ex_int)"
   ]
  },
  {
   "cell_type": "code",
   "execution_count": 13,
   "metadata": {},
   "outputs": [
    {
     "data": {
      "text/plain": [
       "float"
      ]
     },
     "execution_count": 13,
     "metadata": {},
     "output_type": "execute_result"
    }
   ],
   "source": [
    "type(ex_float)"
   ]
  },
  {
   "cell_type": "code",
   "execution_count": 14,
   "metadata": {},
   "outputs": [
    {
     "data": {
      "text/plain": [
       "bool"
      ]
     },
     "execution_count": 14,
     "metadata": {},
     "output_type": "execute_result"
    }
   ],
   "source": [
    "type(ex_bool)"
   ]
  },
  {
   "cell_type": "code",
   "execution_count": 15,
   "metadata": {},
   "outputs": [
    {
     "name": "stdout",
     "output_type": "stream",
     "text": [
      "25\n",
      "0b11001\n"
     ]
    }
   ],
   "source": [
    "a = 0b1111  #0o for octal #0x for hexa\n",
    "b = 0b1010\n",
    "print(a+b)\n",
    "print(bin(a+b))"
   ]
  },
  {
   "cell_type": "code",
   "execution_count": 20,
   "metadata": {},
   "outputs": [
    {
     "data": {
      "text/plain": [
       "'Hello World!'"
      ]
     },
     "execution_count": 20,
     "metadata": {},
     "output_type": "execute_result"
    }
   ],
   "source": [
    "ex_string"
   ]
  },
  {
   "cell_type": "code",
   "execution_count": 21,
   "metadata": {},
   "outputs": [
    {
     "name": "stdout",
     "output_type": "stream",
     "text": [
      "Hello World!\n"
     ]
    }
   ],
   "source": [
    "print(ex_string)"
   ]
  },
  {
   "cell_type": "markdown",
   "metadata": {},
   "source": [
    "<a id='inbml'></a>\n",
    "# Identifiers nothing but memory loacations"
   ]
  },
  {
   "cell_type": "code",
   "execution_count": 3,
   "metadata": {},
   "outputs": [
    {
     "data": {
      "text/plain": [
       "2517321695728"
      ]
     },
     "execution_count": 3,
     "metadata": {},
     "output_type": "execute_result"
    }
   ],
   "source": [
    "id(ex_string)"
   ]
  },
  {
   "cell_type": "code",
   "execution_count": 4,
   "metadata": {},
   "outputs": [],
   "source": [
    "ex_int_2 = ex_int"
   ]
  },
  {
   "cell_type": "code",
   "execution_count": 5,
   "metadata": {},
   "outputs": [
    {
     "data": {
      "text/plain": [
       "140731260772976"
      ]
     },
     "execution_count": 5,
     "metadata": {},
     "output_type": "execute_result"
    }
   ],
   "source": [
    "id(ex_int)"
   ]
  },
  {
   "cell_type": "code",
   "execution_count": 6,
   "metadata": {},
   "outputs": [
    {
     "data": {
      "text/plain": [
       "140731260772976"
      ]
     },
     "execution_count": 6,
     "metadata": {},
     "output_type": "execute_result"
    }
   ],
   "source": [
    "id(ex_int_2)"
   ]
  },
  {
   "cell_type": "code",
   "execution_count": 7,
   "metadata": {},
   "outputs": [
    {
     "data": {
      "text/plain": [
       "20"
      ]
     },
     "execution_count": 7,
     "metadata": {},
     "output_type": "execute_result"
    }
   ],
   "source": [
    "ex_int + 12"
   ]
  },
  {
   "cell_type": "code",
   "execution_count": 8,
   "metadata": {},
   "outputs": [],
   "source": [
    "ex_float = ex_float + 7"
   ]
  },
  {
   "cell_type": "code",
   "execution_count": 9,
   "metadata": {},
   "outputs": [
    {
     "name": "stdout",
     "output_type": "stream",
     "text": [
      "19.5\n"
     ]
    }
   ],
   "source": [
    "print(ex_float)"
   ]
  },
  {
   "cell_type": "markdown",
   "metadata": {},
   "source": [
    "<a id='Operators_in_python'></a>\n",
    "# Operators in python"
   ]
  },
  {
   "cell_type": "code",
   "execution_count": 17,
   "metadata": {},
   "outputs": [
    {
     "name": "stdout",
     "output_type": "stream",
     "text": [
      "3\n",
      "-1\n",
      "2\n",
      "0.8\n",
      "0\n"
     ]
    }
   ],
   "source": [
    "\n",
    "# Addition:\n",
    "print(1 + 2)\n",
    "# Subtraction:\n",
    "print(1 - 2)\n",
    "# Multiplication:\n",
    "print(1 * 2)\n",
    "# Division:\n",
    "print(4 / 5)\n",
    "print(4//5)"
   ]
  },
  {
   "cell_type": "code",
   "execution_count": 22,
   "metadata": {},
   "outputs": [
    {
     "name": "stdout",
     "output_type": "stream",
     "text": [
      "2\n",
      "-2.0\n"
     ]
    }
   ],
   "source": [
    "# Division of float numbers:\n",
    "print(4 // 2)\n",
    "print(-3.0 // 2)"
   ]
  },
  {
   "cell_type": "code",
   "execution_count": 24,
   "metadata": {},
   "outputs": [
    {
     "data": {
      "text/plain": [
       "4294967296"
      ]
     },
     "execution_count": 24,
     "metadata": {},
     "output_type": "execute_result"
    }
   ],
   "source": [
    "# Exponent power operator:\n",
    "2 ** 2 **5"
   ]
  },
  {
   "cell_type": "code",
   "execution_count": 149,
   "metadata": {},
   "outputs": [
    {
     "data": {
      "text/plain": [
       "1"
      ]
     },
     "execution_count": 149,
     "metadata": {},
     "output_type": "execute_result"
    }
   ],
   "source": [
    "# Module can be used to get the remainder:\n",
    "5%2"
   ]
  },
  {
   "cell_type": "code",
   "execution_count": 4,
   "metadata": {},
   "outputs": [],
   "source": [
    "import math"
   ]
  },
  {
   "cell_type": "code",
   "execution_count": null,
   "metadata": {},
   "outputs": [],
   "source": [
    "math."
   ]
  },
  {
   "cell_type": "code",
   "execution_count": 3,
   "metadata": {},
   "outputs": [
    {
     "data": {
      "text/plain": [
       "1220136825991110068701238785423046926253574342803192842192413588385845373153881997605496447502203281863013616477148203584163378722078177200480785205159329285477907571939330603772960859086270429174547882424912726344305670173270769461062802310452644218878789465754777149863494367781037644274033827365397471386477878495438489595537537990423241061271326984327745715546309977202781014561081188373709531016356324432987029563896628911658974769572087926928871281780070265174507768410719624390394322536422605234945850129918571501248706961568141625359056693423813008856249246891564126775654481886506593847951775360894005745238940335798476363944905313062323749066445048824665075946735862074637925184200459369692981022263971952597190945217823331756934581508552332820762820023402626907898342451712006207714640979456116127629145951237229913340169552363850942885592018727433795173014586357570828355780158735432768888680120399882384702151467605445407663535984174430480128938313896881639487469658817504506926365338175055478128640000000000000000000000000000000000000000000000000000000000000000000000000000000000000000000000000000000000000000000000000000"
      ]
     },
     "execution_count": 3,
     "metadata": {},
     "output_type": "execute_result"
    }
   ],
   "source": [
    "math.factorial(500)"
   ]
  },
  {
   "cell_type": "markdown",
   "metadata": {},
   "source": [
    "<a id='oo'></a>\n",
    "# Other operators"
   ]
  },
  {
   "cell_type": "code",
   "execution_count": 150,
   "metadata": {},
   "outputs": [
    {
     "data": {
      "text/plain": [
       "False"
      ]
     },
     "execution_count": 150,
     "metadata": {},
     "output_type": "execute_result"
    }
   ],
   "source": [
    "True and False"
   ]
  },
  {
   "cell_type": "code",
   "execution_count": 151,
   "metadata": {},
   "outputs": [
    {
     "data": {
      "text/plain": [
       "True"
      ]
     },
     "execution_count": 151,
     "metadata": {},
     "output_type": "execute_result"
    }
   ],
   "source": [
    "not False"
   ]
  },
  {
   "cell_type": "code",
   "execution_count": 152,
   "metadata": {},
   "outputs": [
    {
     "data": {
      "text/plain": [
       "True"
      ]
     },
     "execution_count": 152,
     "metadata": {},
     "output_type": "execute_result"
    }
   ],
   "source": [
    "True or False"
   ]
  },
  {
   "cell_type": "code",
   "execution_count": 1,
   "metadata": {},
   "outputs": [
    {
     "data": {
      "text/plain": [
       "(True, False, False, False, True, True)"
      ]
     },
     "execution_count": 1,
     "metadata": {},
     "output_type": "execute_result"
    }
   ],
   "source": [
    "2 > 1, 2 < 1, 2 > 2, 2 < 2, 2 >= 2, 2 <= 2"
   ]
  },
  {
   "cell_type": "code",
   "execution_count": 154,
   "metadata": {},
   "outputs": [
    {
     "data": {
      "text/plain": [
       "(True, True)"
      ]
     },
     "execution_count": 154,
     "metadata": {},
     "output_type": "execute_result"
    }
   ],
   "source": [
    "# equality\n",
    "[1,2] == [1,2], [1,2] != [2,1]"
   ]
  },
  {
   "cell_type": "code",
   "execution_count": 25,
   "metadata": {},
   "outputs": [
    {
     "name": "stdout",
     "output_type": "stream",
     "text": [
      "2417851639229258349412352\n",
      "18446744073709551616\n",
      "False\n",
      "2\n",
      "0b10010\n",
      "0b11\n",
      "0b11000\n",
      "0o30\n",
      "0x18\n",
      "7\n",
      "3\n",
      "64\n",
      "8\n"
     ]
    }
   ],
   "source": [
    "#comparision operators\n",
    "\n",
    "p = 2**3**4\n",
    "print(p)\n",
    "q = 2**(4**3)\n",
    "print(q)\n",
    "print(p==q)\n",
    "print(18 & 3)\n",
    "print(bin(18))\n",
    "print(bin(3))\n",
    "\n",
    "\n",
    "print(bin(24))\n",
    "print(oct(24))\n",
    "print(hex(24))\n",
    "a=5\n",
    "b=6\n",
    "d=5|6\n",
    "print(d)\n",
    "\n",
    "print(5^6)\n",
    "\n",
    "\n",
    "###shift opertators\n",
    "\n",
    "print(4 <<4)\n",
    "print(64 >> 3)"
   ]
  },
  {
   "cell_type": "code",
   "execution_count": 24,
   "metadata": {},
   "outputs": [
    {
     "name": "stdout",
     "output_type": "stream",
     "text": [
      "96\n"
     ]
    }
   ],
   "source": [
    "print(3<<5)"
   ]
  },
  {
   "cell_type": "markdown",
   "metadata": {},
   "source": [
    "<a id='oodt'></a>\n",
    "# Operations on Data Types"
   ]
  },
  {
   "cell_type": "code",
   "execution_count": 26,
   "metadata": {},
   "outputs": [
    {
     "data": {
      "text/plain": [
       "'Vnr vjiet'"
      ]
     },
     "execution_count": 26,
     "metadata": {},
     "output_type": "execute_result"
    }
   ],
   "source": [
    "'Vnr' + ' ' + 'vjiet'"
   ]
  },
  {
   "cell_type": "code",
   "execution_count": 27,
   "metadata": {},
   "outputs": [
    {
     "data": {
      "text/plain": [
       "'Vnr Vjiet Vnr Vjiet Vnr Vjiet Vnr Vjiet Vnr Vjiet Vnr Vjiet Vnr Vjiet '"
      ]
     },
     "execution_count": 27,
     "metadata": {},
     "output_type": "execute_result"
    }
   ],
   "source": [
    "'Vnr Vjiet '*7"
   ]
  },
  {
   "cell_type": "code",
   "execution_count": 31,
   "metadata": {},
   "outputs": [
    {
     "data": {
      "text/plain": [
       "9"
      ]
     },
     "execution_count": 31,
     "metadata": {},
     "output_type": "execute_result"
    }
   ],
   "source": [
    "len('Vnr Vjiet')"
   ]
  },
  {
   "cell_type": "code",
   "execution_count": 31,
   "metadata": {},
   "outputs": [
    {
     "data": {
      "text/plain": [
       "5"
      ]
     },
     "execution_count": 31,
     "metadata": {},
     "output_type": "execute_result"
    }
   ],
   "source": [
    "1 + int('4')"
   ]
  },
  {
   "cell_type": "code",
   "execution_count": 32,
   "metadata": {},
   "outputs": [
    {
     "data": {
      "text/plain": [
       "12"
      ]
     },
     "execution_count": 32,
     "metadata": {},
     "output_type": "execute_result"
    }
   ],
   "source": [
    "int(12.9)"
   ]
  },
  {
   "cell_type": "code",
   "execution_count": 32,
   "metadata": {},
   "outputs": [
    {
     "name": "stdout",
     "output_type": "stream",
     "text": [
      "4.0\n"
     ]
    }
   ],
   "source": [
    "second = \"2\"\n",
    "print(2.0 * float(second))"
   ]
  },
  {
   "cell_type": "code",
   "execution_count": 1,
   "metadata": {},
   "outputs": [
    {
     "name": "stdout",
     "output_type": "stream",
     "text": [
      " Size of int:  28 \n",
      " Size of float:  24 \n",
      " Size of complex:  32 \n",
      " Size of empty List:  64 \n",
      " Size of List with 1 item:  72 \n",
      " Size of List with 2 items:  80 \n",
      " Size of empty Tuple:  48 \n",
      " Size of Tuple with 1 item:  28 \n",
      " Size of Tuple with 2 items:  64 \n",
      " Size of Tuple with 3 items:  72 \n",
      " Size of empty Set:  240 \n",
      " Size of Set with 1 item:  224 \n",
      " Size of Set with 2 items:  224 \n",
      " Size of Dict with 1 item:  240 \n",
      " Size of Dict with 2 items:  240\n"
     ]
    }
   ],
   "source": [
    "import sys\n",
    "print(\" Size of int: \", sys.getsizeof(10), \"\\n\",\n",
    "\"Size of float: \", sys.getsizeof(10.3), \"\\n\",\n",
    "\"Size of complex: \", sys.getsizeof(2+3j), \"\\n\",\n",
    "\"Size of empty List: \", sys.getsizeof([]), \"\\n\",\n",
    "\"Size of List with 1 item: \", sys.getsizeof([1]), \"\\n\",\n",
    "\"Size of List with 2 items: \", sys.getsizeof([1,2]), \"\\n\",\n",
    "\"Size of empty Tuple: \", sys.getsizeof(()), \"\\n\",\n",
    "\"Size of Tuple with 1 item: \", sys.getsizeof((1)), \"\\n\",\n",
    "\"Size of Tuple with 2 items: \", sys.getsizeof((1,2)), \"\\n\",\n",
    "\"Size of Tuple with 3 items: \", sys.getsizeof((1,2,3)), \"\\n\",\n",
    "\"Size of empty Set: \", sys.getsizeof({}), \"\\n\",\n",
    "\"Size of Set with 1 item: \", sys.getsizeof({1}), \"\\n\",\n",
    "\"Size of Set with 2 items: \", sys.getsizeof({1,2}), \"\\n\",\n",
    "\"Size of Dict with 1 item: \", sys.getsizeof({\"n\":1}), \"\\n\",\n",
    "\"Size of Dict with 2 items: \", sys.getsizeof({\"n\":1, \"m\":2}))"
   ]
  },
  {
   "cell_type": "markdown",
   "metadata": {},
   "source": [
    "# Question\n",
    "\n",
    "Which of the following would return a float of 2.0?\n",
    "\n",
    "first = 1.0 second = \"2\" third = \"3.3\"\n",
    "\n",
    "first + float(second)\n",
    "\n",
    "float(second) + float(third)\n",
    "\n",
    "first + int(third)\n",
    "\n",
    "first + int(float(third))\n",
    "\n",
    "int(first) + int(float(third))\n",
    "\n",
    "2.0 * second"
   ]
  },
  {
   "cell_type": "markdown",
   "metadata": {},
   "source": [
    "<a id='s'></a>\n",
    "# Strings "
   ]
  },
  {
   "cell_type": "code",
   "execution_count": 1,
   "metadata": {},
   "outputs": [
    {
     "name": "stdout",
     "output_type": "stream",
     "text": [
      "11\n"
     ]
    },
    {
     "data": {
      "text/plain": [
       "'o'"
      ]
     },
     "execution_count": 1,
     "metadata": {},
     "output_type": "execute_result"
    }
   ],
   "source": [
    "s = \"Hello world\"\n",
    "type(s)\n",
    "print(len(s))\n",
    "# Indexing the first (index 0) character in the string:\n",
    "s[4]\n"
   ]
  },
  {
   "cell_type": "code",
   "execution_count": 2,
   "metadata": {},
   "outputs": [
    {
     "data": {
      "text/plain": [
       "'Hell'"
      ]
     },
     "execution_count": 2,
     "metadata": {},
     "output_type": "execute_result"
    }
   ],
   "source": [
    "# This is called *slicing*. We start at the left index \n",
    "#   and go up to but don't include the right index:\n",
    "\n",
    "# Objects at indexes 0, 1, and 2\n",
    "s[0:4]"
   ]
  },
  {
   "cell_type": "code",
   "execution_count": 3,
   "metadata": {},
   "outputs": [
    {
     "data": {
      "text/plain": [
       "'world'"
      ]
     },
     "execution_count": 3,
     "metadata": {},
     "output_type": "execute_result"
    }
   ],
   "source": [
    "# From index 6 up to the end of the string:\n",
    "s[6:]"
   ]
  },
  {
   "cell_type": "code",
   "execution_count": 4,
   "metadata": {},
   "outputs": [
    {
     "data": {
      "text/plain": [
       "'Hello world'"
      ]
     },
     "execution_count": 4,
     "metadata": {},
     "output_type": "execute_result"
    }
   ],
   "source": [
    "# No start or end specified:\n",
    "s[:]"
   ]
  },
  {
   "cell_type": "code",
   "execution_count": 5,
   "metadata": {},
   "outputs": [
    {
     "data": {
      "text/plain": [
       "'r'"
      ]
     },
     "execution_count": 5,
     "metadata": {},
     "output_type": "execute_result"
    }
   ],
   "source": [
    "# Can we index from the right side?\n",
    "s[-3]"
   ]
  },
  {
   "cell_type": "code",
   "execution_count": 6,
   "metadata": {},
   "outputs": [
    {
     "data": {
      "text/plain": [
       "'ello wo'"
      ]
     },
     "execution_count": 6,
     "metadata": {},
     "output_type": "execute_result"
    }
   ],
   "source": [
    "s[1:-3]"
   ]
  },
  {
   "cell_type": "markdown",
   "metadata": {},
   "source": [
    "In addition to specifying a range, you can add a step size or character skip rate."
   ]
  },
  {
   "cell_type": "code",
   "execution_count": 7,
   "metadata": {},
   "outputs": [
    {
     "data": {
      "text/plain": [
       "'Hlwl'"
      ]
     },
     "execution_count": 7,
     "metadata": {},
     "output_type": "execute_result"
    }
   ],
   "source": [
    "# Define a step size of 2, i.e., every other character:\n",
    "s[::3]"
   ]
  },
  {
   "cell_type": "code",
   "execution_count": 8,
   "metadata": {},
   "outputs": [],
   "source": [
    "album = 'Vnr vjiet'"
   ]
  },
  {
   "cell_type": "code",
   "execution_count": 9,
   "metadata": {
    "scrolled": true
   },
   "outputs": [
    {
     "name": "stdout",
     "output_type": "stream",
     "text": [
      "V\n"
     ]
    }
   ],
   "source": [
    "print(album[0])"
   ]
  },
  {
   "cell_type": "code",
   "execution_count": 10,
   "metadata": {},
   "outputs": [
    {
     "data": {
      "text/plain": [
       "'Vnr '"
      ]
     },
     "execution_count": 10,
     "metadata": {},
     "output_type": "execute_result"
    }
   ],
   "source": [
    "album[0:4]"
   ]
  },
  {
   "cell_type": "code",
   "execution_count": 11,
   "metadata": {},
   "outputs": [
    {
     "data": {
      "text/plain": [
       "'vjiet'"
      ]
     },
     "execution_count": 11,
     "metadata": {},
     "output_type": "execute_result"
    }
   ],
   "source": [
    "album[4:]"
   ]
  },
  {
   "cell_type": "code",
   "execution_count": 12,
   "metadata": {},
   "outputs": [
    {
     "data": {
      "text/plain": [
       "9"
      ]
     },
     "execution_count": 12,
     "metadata": {},
     "output_type": "execute_result"
    }
   ],
   "source": [
    "len(album)"
   ]
  },
  {
   "cell_type": "code",
   "execution_count": 14,
   "metadata": {},
   "outputs": [
    {
     "data": {
      "text/plain": [
       "<function str.rsplit(sep=None, maxsplit=-1)>"
      ]
     },
     "execution_count": 14,
     "metadata": {},
     "output_type": "execute_result"
    }
   ],
   "source": [
    "s = \"Hello world\"\n",
    "type(s)\n",
    "s.rsplit\n",
    "#help(s.rsplit)"
   ]
  },
  {
   "cell_type": "code",
   "execution_count": 15,
   "metadata": {},
   "outputs": [
    {
     "name": "stdout",
     "output_type": "stream",
     "text": [
      "Hello test\n"
     ]
    }
   ],
   "source": [
    "s2 = s.replace(\"world\", \"test\")\n",
    "print(s2)"
   ]
  },
  {
   "cell_type": "markdown",
   "metadata": {},
   "source": [
    "# PROBLEMS\n",
    "\n",
    "What is the final value of new_record in program below?\n",
    "\n",
    "1. What is the output if we print new_record.\n",
    "\n",
    "    record = 'Scorpion'\n",
    "    \n",
    "    new_record = record\n",
    "    \n",
    "    record = 'God's Plan'\n",
    "\n",
    "2. If a = 1532, what does a[2] return?\n",
    "\n",
    "\n",
    "3. What does the following print?\n",
    "\n",
    "    record = 'Scorpion'\n",
    "    \n",
    "    print(f\"Drake's album {record} is lyrically dense\")\n",
    "  \n",
    "  \n",
    "4. Given some string variable thing:\n",
    "\n",
    "    What does thing[low:high] do?\n",
    "\n",
    "    What does thing[low:] (without a value after the colon) do?\n",
    "\n",
    "    What does thing[:high] (without a value before the colon) do?\n",
    "\n",
    "    What does thing[:] (just a colon) do?\n",
    "\n",
    "    What does thing[number:some-negative-number] do?\n",
    "\n",
    "    What happens when you choose a high value which is out of range? (i.e., try album[15])\n",
    "    \n",
    "5. Add two binary numbers abd print their result in octal form.\n",
    "\n",
    "6. Add two hexa decimal numbers and print their result in binary form."
   ]
  },
  {
   "cell_type": "markdown",
   "metadata": {},
   "source": [
    "<a id='mf'></a>\n",
    "# Built-in Mathematical Functions"
   ]
  },
  {
   "cell_type": "code",
   "execution_count": 73,
   "metadata": {},
   "outputs": [
    {
     "name": "stdout",
     "output_type": "stream",
     "text": [
      "Vnr Vjiet will open after lockdown\n"
     ]
    }
   ],
   "source": [
    "print('Vnr Vjiet will open after lockdown')"
   ]
  },
  {
   "cell_type": "code",
   "execution_count": 74,
   "metadata": {},
   "outputs": [
    {
     "data": {
      "text/plain": [
       "6"
      ]
     },
     "execution_count": 74,
     "metadata": {},
     "output_type": "execute_result"
    }
   ],
   "source": [
    "max(3, 6, 5)"
   ]
  },
  {
   "cell_type": "code",
   "execution_count": 75,
   "metadata": {},
   "outputs": [
    {
     "data": {
      "text/plain": [
       "2"
      ]
     },
     "execution_count": 75,
     "metadata": {},
     "output_type": "execute_result"
    }
   ],
   "source": [
    "min(5, 3, 2)"
   ]
  },
  {
   "cell_type": "code",
   "execution_count": 15,
   "metadata": {},
   "outputs": [
    {
     "data": {
      "text/plain": [
       "5.333"
      ]
     },
     "execution_count": 15,
     "metadata": {},
     "output_type": "execute_result"
    }
   ],
   "source": [
    "round(5.3326, 3)"
   ]
  },
  {
   "cell_type": "code",
   "execution_count": 16,
   "metadata": {},
   "outputs": [
    {
     "data": {
      "text/plain": [
       "5.9"
      ]
     },
     "execution_count": 16,
     "metadata": {},
     "output_type": "execute_result"
    }
   ],
   "source": [
    "round(5.88, 1)"
   ]
  },
  {
   "cell_type": "code",
   "execution_count": 17,
   "metadata": {},
   "outputs": [],
   "source": [
    "weight = 60.1543"
   ]
  },
  {
   "cell_type": "code",
   "execution_count": 18,
   "metadata": {},
   "outputs": [
    {
     "name": "stdout",
     "output_type": "stream",
     "text": [
      "My suitcase weighs  60.15\n"
     ]
    }
   ],
   "source": [
    "print(f\"My suitcase weighs {weight: .2f}\")"
   ]
  },
  {
   "cell_type": "code",
   "execution_count": 19,
   "metadata": {},
   "outputs": [
    {
     "name": "stdout",
     "output_type": "stream",
     "text": [
      "My suitcase weighs 60.15\n"
     ]
    }
   ],
   "source": [
    "print(\"My suitcase weighs {:.2f}\".format(weight))"
   ]
  },
  {
   "cell_type": "code",
   "execution_count": 20,
   "metadata": {},
   "outputs": [
    {
     "name": "stdout",
     "output_type": "stream",
     "text": [
      "z\n"
     ]
    }
   ],
   "source": [
    "easy_string = \"0zABc\"\n",
    "print(max(easy_string))"
   ]
  },
  {
   "cell_type": "code",
   "execution_count": 21,
   "metadata": {},
   "outputs": [
    {
     "data": {
      "text/plain": [
       "'0ZABC'"
      ]
     },
     "execution_count": 21,
     "metadata": {},
     "output_type": "execute_result"
    }
   ],
   "source": [
    "easy_string.upper()"
   ]
  },
  {
   "cell_type": "code",
   "execution_count": 22,
   "metadata": {},
   "outputs": [],
   "source": [
    "import math"
   ]
  },
  {
   "cell_type": "code",
   "execution_count": 23,
   "metadata": {},
   "outputs": [
    {
     "data": {
      "text/plain": [
       "40320"
      ]
     },
     "execution_count": 23,
     "metadata": {},
     "output_type": "execute_result"
    }
   ],
   "source": [
    "math.factorial(8)"
   ]
  },
  {
   "cell_type": "markdown",
   "metadata": {},
   "source": [
    "QUESTION\n",
    "\n",
    "Predict what each print statement below will do.\n",
    "\n",
    "\n",
    "easy_string = \"abcABC\"\n",
    "\n",
    "print(max(easy_string))\n",
    "\n",
    "rich = \"gold1\"\n",
    "\n",
    "poor = \"tin2\"\n",
    "\n",
    "print(max(rich, poor))\n",
    "\n",
    "print(max(len(rich), len(poor)))"
   ]
  },
  {
   "cell_type": "markdown",
   "metadata": {},
   "source": [
    "<a id='cs'></a>\n",
    "# Control statements"
   ]
  },
  {
   "cell_type": "markdown",
   "metadata": {},
   "source": [
    "# if-else -- indentation "
   ]
  },
  {
   "cell_type": "code",
   "execution_count": 24,
   "metadata": {},
   "outputs": [
    {
     "name": "stdout",
     "output_type": "stream",
     "text": [
      "The integer 1 is equal to the integer 1.\n",
      "Is the next indented line run, too?\n"
     ]
    }
   ],
   "source": [
    "if 1 == 1:\n",
    "    print('The integer 1 is equal to the integer 1.')\n",
    "    print('Is the next indented line run, too?')"
   ]
  },
  {
   "cell_type": "code",
   "execution_count": 25,
   "metadata": {},
   "outputs": [
    {
     "name": "stdout",
     "output_type": "stream",
     "text": [
      "---\n",
      "These two lines are not indented, so they are always run next.\n"
     ]
    }
   ],
   "source": [
    "if 'one' == 'two':\n",
    "    print(\"The string 'one' is equal to the string 'two'.\")\n",
    "\n",
    "print('---')\n",
    "print('These two lines are not indented, so they are always run next.')"
   ]
  },
  {
   "cell_type": "code",
   "execution_count": 26,
   "metadata": {},
   "outputs": [
    {
     "name": "stdout",
     "output_type": "stream",
     "text": [
      "50 >= 30.\n",
      "The else code block wdas run instead of the first block.\n",
      "---\n",
      "These two lines are not indented, so they are always run next.\n"
     ]
    }
   ],
   "source": [
    "if 50 < 30:\n",
    "    print(\"50 < 30.\")\n",
    "else:\n",
    "    print(\"50 >= 30.\")\n",
    "    print(\"The else code block wdas run instead of the first block.\")\n",
    "\n",
    "print('---')\n",
    "print('These two lines are not indented, so they are always run next.')"
   ]
  },
  {
   "cell_type": "code",
   "execution_count": 27,
   "metadata": {},
   "outputs": [
    {
     "name": "stdout",
     "output_type": "stream",
     "text": [
      "Your health is average.\n",
      "Exercise and eat healthily!\n",
      "---\n",
      "These two lines are not indented, so they are always run next.\n"
     ]
    }
   ],
   "source": [
    "health = 55\n",
    "\n",
    "if health > 70:\n",
    "    print('You are in great health!')\n",
    "elif health > 40:\n",
    "    print('Your health is average.')\n",
    "    print('Exercise and eat healthily!')\n",
    "else:\n",
    "    print('Your health is low.')\n",
    "    print('Please see a doctor now.')\n",
    "\n",
    "print('---')\n",
    "print('These two lines are not indented, so they are always run next.')"
   ]
  },
  {
   "cell_type": "code",
   "execution_count": 55,
   "metadata": {},
   "outputs": [
    {
     "name": "stdout",
     "output_type": "stream",
     "text": [
      "You watch the bachelor?yes\n",
      "bachelor watcher\n"
     ]
    }
   ],
   "source": [
    "bachelor = input(\"You watch the bachelor?\")\n",
    "if bachelor == 'yes' or bachelor == 'Yes':\n",
    "    print('bachelor watcher')\n",
    "else:\n",
    "    print('possible bachelor watcher') "
   ]
  },
  {
   "cell_type": "markdown",
   "metadata": {},
   "source": [
    "# question on if"
   ]
  },
  {
   "cell_type": "markdown",
   "metadata": {},
   "source": [
    "1. Write an if… else statement to check whether or not the suitcase weighs more than 50 pounds by reading a weight from keyboard\n",
    "\n",
    "\n",
    "2. Write an if… else statement for multiple conditions.\n",
    "\n",
    "Print out these recommendations based on the weather conditions: by reading the temparature and rain as:\n",
    "\n",
    "temperature = float(eval(input('What is the temperature? ')))\n",
    "\n",
    "\n",
    "weather = input('What is the weather (rain or shine)? ')\n",
    "\n",
    "\n",
    "1) The temperature is higher than 60 degrees and it is raining: Bring an umbrella. \n",
    "\n",
    "2) The temperature is lower than or equal to 60 degrees and it is raining: Bring an umbrella and a jacket. \n",
    "\n",
    "3) The temperature is higher than 60 degrees and the sun is shining: Wear a T-shirt. \n",
    "\n",
    "4) The temperature is lower than or equal to 60 degrees and the sun is shining: Bring a jacket."
   ]
  },
  {
   "cell_type": "code",
   "execution_count": 30,
   "metadata": {},
   "outputs": [
    {
     "name": "stdout",
     "output_type": "stream",
     "text": [
      "124\n"
     ]
    }
   ],
   "source": [
    "x,y=50,30\n",
    "print( (x ^ y) + ( x & y) << 1 )"
   ]
  },
  {
   "cell_type": "code",
   "execution_count": 31,
   "metadata": {},
   "outputs": [
    {
     "name": "stdout",
     "output_type": "stream",
     "text": [
      "17\n"
     ]
    }
   ],
   "source": [
    "a=[9,3,5]\n",
    "print(sum(a))"
   ]
  },
  {
   "cell_type": "markdown",
   "metadata": {},
   "source": [
    "<a id='fl'></a>\n",
    "# For loop "
   ]
  },
  {
   "cell_type": "markdown",
   "metadata": {},
   "source": [
    "The range function\n",
    "range(n) creates an iterable of numbers 0, 1, 2, ..., n-1."
   ]
  },
  {
   "cell_type": "code",
   "execution_count": 2,
   "metadata": {},
   "outputs": [
    {
     "name": "stdout",
     "output_type": "stream",
     "text": [
      "1\n",
      "2\n",
      "3\n",
      "4\n",
      "5\n",
      "6\n",
      "7\n",
      "8\n",
      "9\n"
     ]
    }
   ],
   "source": [
    "for num in range(1,10,2):\n",
    "    print(num)"
   ]
  },
  {
   "cell_type": "code",
   "execution_count": 33,
   "metadata": {},
   "outputs": [
    {
     "name": "stdout",
     "output_type": "stream",
     "text": [
      "10\n"
     ]
    }
   ],
   "source": [
    "total = 0\n",
    "for number in range(5):\n",
    "    total = total + number\n",
    "print(total)"
   ]
  },
  {
   "cell_type": "markdown",
   "metadata": {},
   "source": [
    "# Problems on for\n",
    "\n",
    "Fill in the blanks to produce correct results:\n",
    "\n",
    "1. Total length of the strings in the list: [\"red\", \"green\", \"blue\"] => 12\n",
    "\n",
    "total = 0\n",
    "\n",
    "for word in [\"red\", \"green\", \"blue\"]:\n",
    "\n",
    "    ____ = ____ + len(word)\n",
    "    \n",
    "print(total)\n",
    "\n",
    "\n",
    "\n",
    "2. List of word lengths: [\"red\", \"green\", \"blue\"] => [3, 5, 4]\n",
    "\n",
    "\n",
    "lengths = ____\n",
    "\n",
    "for word in [\"red\", \"green\", \"blue\"]:\n",
    "\n",
    "    lengths.____(____)\n",
    "    \n",
    "print(lengths)"
   ]
  },
  {
   "cell_type": "markdown",
   "metadata": {},
   "source": [
    "# another set of problems on for\n",
    "\n",
    "1. Write a for loop that iterates from number 1 to number 15.\n",
    "\n",
    "    On each iteration, print out the number.\n",
    "\n",
    "2. Iterate from 1 to 30 using the following instructions:\n",
    "\n",
    "    1) If a number is divisible by 3, print \"fizz.\" \n",
    "    \n",
    "    2) If a number is divisible by 5, print \"buzz.\" \n",
    "    \n",
    "    3) If a number is both divisible by 3 and by 5, print \"fizzbuzz.\" \n",
    "    \n",
    "    4) Otherwise, print just the number."
   ]
  },
  {
   "cell_type": "markdown",
   "metadata": {},
   "source": [
    "# While Loop"
   ]
  },
  {
   "cell_type": "code",
   "execution_count": 15,
   "metadata": {},
   "outputs": [
    {
     "name": "stdout",
     "output_type": "stream",
     "text": [
      "0\n",
      "1\n",
      "2\n",
      "3\n",
      "4\n",
      "5\n",
      "6\n",
      "7\n",
      "8\n",
      "9\n"
     ]
    }
   ],
   "source": [
    "x = 0\n",
    "while x < 10:\n",
    "    print(x) \n",
    "    x = x+1"
   ]
  },
  {
   "cell_type": "markdown",
   "metadata": {},
   "source": [
    "<a id='lists'></a>\n",
    "# Collections\n",
    "\n",
    "\n",
    "    Lists: [1, 2, 'steve', False]\n",
    "    Tuples: (1, 2, 'steve', False)"
   ]
  },
  {
   "cell_type": "code",
   "execution_count": 1,
   "metadata": {},
   "outputs": [],
   "source": [
    "songs = ['Survival','Nonstop','Elevate','Emotionless',\"God's Plan\",\n",
    "\"I'm Upset\",'8 Out Of 10','Mob Ties']"
   ]
  },
  {
   "cell_type": "code",
   "execution_count": 2,
   "metadata": {},
   "outputs": [
    {
     "data": {
      "text/plain": [
       "list"
      ]
     },
     "execution_count": 2,
     "metadata": {},
     "output_type": "execute_result"
    }
   ],
   "source": [
    "type(songs)"
   ]
  },
  {
   "cell_type": "code",
   "execution_count": 3,
   "metadata": {},
   "outputs": [
    {
     "data": {
      "text/plain": [
       "'Survival'"
      ]
     },
     "execution_count": 3,
     "metadata": {},
     "output_type": "execute_result"
    }
   ],
   "source": [
    "songs[0]"
   ]
  },
  {
   "cell_type": "code",
   "execution_count": 4,
   "metadata": {},
   "outputs": [
    {
     "name": "stdout",
     "output_type": "stream",
     "text": [
      "8\n"
     ]
    }
   ],
   "source": [
    "print(len(songs))"
   ]
  },
  {
   "cell_type": "code",
   "execution_count": 5,
   "metadata": {},
   "outputs": [],
   "source": [
    "songs[3] = 'In my feelings'"
   ]
  },
  {
   "cell_type": "code",
   "execution_count": 6,
   "metadata": {},
   "outputs": [
    {
     "name": "stdout",
     "output_type": "stream",
     "text": [
      "8\n"
     ]
    }
   ],
   "source": [
    "print(len(songs))"
   ]
  },
  {
   "cell_type": "code",
   "execution_count": 5,
   "metadata": {},
   "outputs": [
    {
     "name": "stdout",
     "output_type": "stream",
     "text": [
      "3rd Item in List is:  3\n",
      "2nd Last in List is:  5\n",
      "List from 2nd Item is:  [3, 4, 5, 6]\n",
      "List from 2nd to 4th Item is:  [3, 4, 5]\n",
      "List odd Items is:  [1, 3, 5]\n",
      "List even Items is:  [2, 4, 6]\n",
      "List reversed Items is:  [6, 5, 4, 3, 2, 1]\n"
     ]
    }
   ],
   "source": [
    "list1 = [1,2,3,4,5,6] \n",
    "print(\"3rd Item in List is: \", list1[2]) # Indexing \n",
    "print(\"2nd Last in List is: \", list1[-2]) # Indexing from Last \n",
    "print(\"List from 2nd Item is: \", list1[2:]) \n",
    "print(\"List from 2nd to 4th Item is: \", list1[2:5]) \n",
    "print(\"List odd Items is: \", list1[::2]) \n",
    "print(\"List even Items is: \", list1[1::2]) \n",
    "print(\"List reversed Items is: \", list1[-1::-1])"
   ]
  },
  {
   "cell_type": "code",
   "execution_count": 7,
   "metadata": {},
   "outputs": [
    {
     "data": {
      "text/plain": [
       "['Survival',\n",
       " 'Nonstop',\n",
       " 'Elevate',\n",
       " 'In my feelings',\n",
       " \"God's Plan\",\n",
       " \"I'm Upset\",\n",
       " '8 Out Of 10',\n",
       " 'Mob Ties']"
      ]
     },
     "execution_count": 7,
     "metadata": {},
     "output_type": "execute_result"
    }
   ],
   "source": [
    "songs"
   ]
  },
  {
   "cell_type": "code",
   "execution_count": 9,
   "metadata": {},
   "outputs": [],
   "source": [
    "songs.append('Jump Man')"
   ]
  },
  {
   "cell_type": "code",
   "execution_count": 10,
   "metadata": {},
   "outputs": [
    {
     "name": "stdout",
     "output_type": "stream",
     "text": [
      "['Survival', 'Nonstop', 'Elevate', 'In my feelings', \"God's Plan\", \"I'm Upset\", '8 Out Of 10', 'Mob Ties', 'Jump Man', 'Jump Man']\n"
     ]
    }
   ],
   "source": [
    "print(songs)"
   ]
  },
  {
   "cell_type": "code",
   "execution_count": 11,
   "metadata": {},
   "outputs": [],
   "source": [
    "del songs[3]"
   ]
  },
  {
   "cell_type": "code",
   "execution_count": 12,
   "metadata": {},
   "outputs": [
    {
     "name": "stdout",
     "output_type": "stream",
     "text": [
      "['Survival', 'Nonstop', 'Elevate', \"God's Plan\", \"I'm Upset\", '8 Out Of 10', 'Mob Ties', 'Jump Man', 'Jump Man']\n"
     ]
    }
   ],
   "source": [
    "print(songs)"
   ]
  },
  {
   "cell_type": "code",
   "execution_count": 13,
   "metadata": {},
   "outputs": [],
   "source": [
    "new_playlist = []  "
   ]
  },
  {
   "cell_type": "code",
   "execution_count": 14,
   "metadata": {},
   "outputs": [],
   "source": [
    "new_playlist.append('0 to 100')"
   ]
  },
  {
   "cell_type": "code",
   "execution_count": 15,
   "metadata": {},
   "outputs": [
    {
     "data": {
      "text/plain": [
       "['0 to 100']"
      ]
     },
     "execution_count": 15,
     "metadata": {},
     "output_type": "execute_result"
    }
   ],
   "source": [
    "new_playlist"
   ]
  },
  {
   "cell_type": "code",
   "execution_count": 1,
   "metadata": {},
   "outputs": [],
   "source": [
    "a = list()"
   ]
  },
  {
   "cell_type": "code",
   "execution_count": 2,
   "metadata": {},
   "outputs": [],
   "source": [
    "import random"
   ]
  },
  {
   "cell_type": "code",
   "execution_count": 9,
   "metadata": {},
   "outputs": [],
   "source": [
    "a.append(random.randint(1,30))"
   ]
  },
  {
   "cell_type": "code",
   "execution_count": 10,
   "metadata": {},
   "outputs": [
    {
     "name": "stdout",
     "output_type": "stream",
     "text": [
      "[20, 7, 28, 22]\n"
     ]
    }
   ],
   "source": [
    "print(a)"
   ]
  },
  {
   "cell_type": "code",
   "execution_count": 22,
   "metadata": {},
   "outputs": [
    {
     "name": "stdout",
     "output_type": "stream",
     "text": [
      "[28]\n"
     ]
    }
   ],
   "source": [
    "print(a)"
   ]
  },
  {
   "cell_type": "code",
   "execution_count": 27,
   "metadata": {},
   "outputs": [],
   "source": [
    "for i in range(0,10):\n",
    "    a.append(random.randint(1,200000))"
   ]
  },
  {
   "cell_type": "code",
   "execution_count": 28,
   "metadata": {},
   "outputs": [
    {
     "name": "stdout",
     "output_type": "stream",
     "text": [
      "[28, 360, 849, 1033, 218, 1400, 1825, 180, 1073, 1715, 1678, 77631, 83385, 86128, 199883, 157960, 169393, 56813, 92406, 38346, 158001, 130939, 195412, 128788, 135365, 22447, 149502, 136275, 42449, 175963, 118356]\n"
     ]
    }
   ],
   "source": [
    "print(a)"
   ]
  },
  {
   "cell_type": "code",
   "execution_count": 29,
   "metadata": {},
   "outputs": [
    {
     "name": "stdout",
     "output_type": "stream",
     "text": [
      "[28, 360, 849, 1033, 218, 1400, 1825, 180, 1073, 1715, 1678, 77631, 83385, 86128, 199883, 157960, 169393, 56813, 92406, 38346, 158001, 130939, 195412, 128788, 135365, 22447, 149502, 136275, 42449, 175963, 118356]\n"
     ]
    }
   ],
   "source": [
    "print(a)"
   ]
  },
  {
   "cell_type": "code",
   "execution_count": 30,
   "metadata": {},
   "outputs": [],
   "source": [
    "for i in range(0,5):\n",
    "    a.append(random.randint(1,20))"
   ]
  },
  {
   "cell_type": "code",
   "execution_count": 31,
   "metadata": {
    "scrolled": true
   },
   "outputs": [
    {
     "name": "stdout",
     "output_type": "stream",
     "text": [
      "[28, 360, 849, 1033, 218, 1400, 1825, 180, 1073, 1715, 1678, 77631, 83385, 86128, 199883, 157960, 169393, 56813, 92406, 38346, 158001, 130939, 195412, 128788, 135365, 22447, 149502, 136275, 42449, 175963, 118356, 15, 9, 19, 7, 4]\n"
     ]
    }
   ],
   "source": [
    "print(a)"
   ]
  },
  {
   "cell_type": "code",
   "execution_count": 19,
   "metadata": {},
   "outputs": [
    {
     "name": "stdout",
     "output_type": "stream",
     "text": [
      "[13, 10, 18, 17, 26]\n"
     ]
    }
   ],
   "source": [
    "randomlist = []\n",
    "#random.seed(42)\n",
    "randomlist = random.sample(range(10,30),5)\n",
    "print(randomlist)"
   ]
  },
  {
   "cell_type": "code",
   "execution_count": 34,
   "metadata": {},
   "outputs": [
    {
     "name": "stdout",
     "output_type": "stream",
     "text": [
      "['A', 'd', 'd']\n"
     ]
    }
   ],
   "source": [
    "# Create a new empty list:\n",
    "l = []\n",
    "\n",
    "# Add an element using append():\n",
    "l.append(\"A\")\n",
    "l.append(\"d\")\n",
    "l.append(\"d\")\n",
    "\n",
    "print(l)"
   ]
  },
  {
   "cell_type": "code",
   "execution_count": 35,
   "metadata": {},
   "outputs": [
    {
     "name": "stdout",
     "output_type": "stream",
     "text": [
      "['A', 'b', 'c']\n"
     ]
    }
   ],
   "source": [
    "# Reassign a range of values with another list:\n",
    "l[1:3] = [\"b\", \"c\"]\n",
    "print(l)"
   ]
  },
  {
   "cell_type": "code",
   "execution_count": 36,
   "metadata": {},
   "outputs": [
    {
     "name": "stdout",
     "output_type": "stream",
     "text": [
      "['i', 'n', 's', 'e', 'r', 't', 'A', 'b', 'c']\n"
     ]
    }
   ],
   "source": [
    "#Use the .insert() method to add values at specific indices.\n",
    "l.insert(0, \"i\")\n",
    "l.insert(1, \"n\")\n",
    "l.insert(2, \"s\")\n",
    "l.insert(3, \"e\")\n",
    "l.insert(4, \"r\")\n",
    "l.insert(5, \"t\")\n",
    "\n",
    "print(l)"
   ]
  },
  {
   "cell_type": "code",
   "execution_count": 92,
   "metadata": {},
   "outputs": [
    {
     "name": "stdout",
     "output_type": "stream",
     "text": [
      "['i', 'n', 's', 'e', 'r', 't', 'b', 'c']\n"
     ]
    }
   ],
   "source": [
    "#The .remove() method can be used to remove specific values if they appear in a list.\n",
    "l.remove(\"A\")\n",
    "print(l)"
   ]
  },
  {
   "cell_type": "code",
   "execution_count": 93,
   "metadata": {},
   "outputs": [
    {
     "name": "stdout",
     "output_type": "stream",
     "text": [
      "['i', 'n', 's', 'e', 'r', 't']\n"
     ]
    }
   ],
   "source": [
    "#On the other hand, the del() function can be used with a list and index to delete values.\n",
    "del l[7]\n",
    "del l[6]\n",
    "\n",
    "print(l)"
   ]
  },
  {
   "cell_type": "code",
   "execution_count": 12,
   "metadata": {},
   "outputs": [
    {
     "name": "stdout",
     "output_type": "stream",
     "text": [
      "['10', '20', '23', '26', '27', '28', '32', '33', '38', '42', '44', '48', '54', '56', '65', '66', '66', '83', '87', '88', '94', '99']\n",
      "None\n",
      "['99', '94', '88', '87', '83', '66', '66', '65', '56', '54', '48', '44', '42', '38', '33', '32', '28', '27', '26', '23', '20', '10']\n",
      "WEDNESDAY THURSDAY\n",
      "THURSDAY FRIDAY\n",
      "['WEDNESDAY', 'THURSDAY', 'FRIDAY']\n",
      "None\n",
      "['MONDAY', 'TUESDAY', 'WEDNESDAY', 'THURSDAY', 'FRIDAY', 'SATURDAY', 'SUNDAY']\n",
      "7\n",
      "['a', 'b', 'b', 'b', 'c', 'c', 'd', 'e']\n"
     ]
    },
    {
     "data": {
      "text/plain": [
       "7"
      ]
     },
     "execution_count": 12,
     "metadata": {},
     "output_type": "execute_result"
    }
   ],
   "source": [
    "Ages = [ '20', '26', '56', '54', '32', '28','23','99', '87', '10', '65', '88', '66',\n",
    "                  '48', '42', '27','33','38','83','94','66','44']\n",
    "print(sorted(Ages, reverse=False))\n",
    "print(Ages.sort())\n",
    "print(sorted(Ages, reverse=True))\n",
    "\n",
    "D = ['MONDAY', 'TUESDAY','WEDNESDAY','THURSDAY','FRIDAY','SATURDAY','SUNDAY']\n",
    "print(D[-5], D[-4])\n",
    "print(D[3], D[4])\n",
    "print(D[2:5]) \n",
    "\n",
    "#print(reverse(D))\n",
    "print(D.reverse())\n",
    "print(list(reversed(D)))\n",
    "\n",
    "Mylist =['a','a','b','b','b','c','c','d','e'] \n",
    "print(Mylist.index('d'))\n",
    "Mylist.pop(0)\n",
    "print(Mylist)\n",
    "\n",
    "N = [24, 27, 29, 26, 25, 23, 20]\n",
    "len(N)"
   ]
  },
  {
   "cell_type": "markdown",
   "metadata": {},
   "source": [
    "# List Comprehension\n",
    " check this folder :E:\\Python for Data Science\\listcomprehension"
   ]
  },
  {
   "cell_type": "code",
   "execution_count": 94,
   "metadata": {},
   "outputs": [
    {
     "name": "stdout",
     "output_type": "stream",
     "text": [
      "[21, 5, 33, 10, 47, 44, 17, 19, 35, 13]\n"
     ]
    }
   ],
   "source": [
    "res = [random.randrange(1, 50, 1) for i in range(10)] \n",
    "print(res)"
   ]
  },
  {
   "cell_type": "code",
   "execution_count": 170,
   "metadata": {},
   "outputs": [
    {
     "name": "stdout",
     "output_type": "stream",
     "text": [
      "2\n",
      "4\n",
      "6\n"
     ]
    }
   ],
   "source": [
    "for number in [2, 4, 6]:\n",
    "    print(number)"
   ]
  },
  {
   "cell_type": "code",
   "execution_count": null,
   "metadata": {},
   "outputs": [],
   "source": [
    "for bachelor in [3, 5, 6]:\n",
    "    print(bachelor)"
   ]
  },
  {
   "cell_type": "code",
   "execution_count": 4,
   "metadata": {},
   "outputs": [
    {
     "name": "stdout",
     "output_type": "stream",
     "text": [
      "[11, 12, 13, 14, 15]\n",
      "[21, 22, 23, 24, 25]\n",
      "[1331, 1728, 2197, 2744, 3375]\n",
      "[51.8, 53.6, 55.400000000000006, 57.2, 59.0]\n",
      "[12, 14]\n"
     ]
    }
   ],
   "source": [
    "#n=[x*x for x in range(4)]\n",
    "#print(n)\n",
    "#\n",
    "#list = [2,4,6,8]\n",
    "#a= (x**3 for x in list)\n",
    "#print(next(a))\n",
    "#print(a)\n",
    "#List Comprehension\n",
    "\n",
    "l1 = [1,2,3,4,5]\n",
    "\n",
    "for i in range(0,len(l1)):\n",
    "    l1[i] = l1[i]+10\n",
    "print(l1)\n",
    "\n",
    "l2 = [x+10 for x in l1]\n",
    "print(l2)\n",
    "\n",
    "l3 = [x**3 for x in l1]\n",
    "print(l3)\n",
    "\n",
    "fahrenheit = [((float(9)/5)*x+32) for x in l1]\n",
    "print(fahrenheit)\n",
    "\n",
    "e = [x for x in l1 if x%2==0]\n",
    "print(e)\n"
   ]
  },
  {
   "cell_type": "markdown",
   "metadata": {},
   "source": [
    "<a id='tup'></a>\n",
    "# Tuples"
   ]
  },
  {
   "cell_type": "code",
   "execution_count": 5,
   "metadata": {},
   "outputs": [
    {
     "name": "stdout",
     "output_type": "stream",
     "text": [
      "3rd Item in tuple is:  3\n",
      "Tuple from 2nd Item is:  (3, 4, 5, 6)\n",
      "Tuple from 2nd to 4th Item is:  (3, 4, 5)\n",
      "Tuple odd Items is:  (1, 3, 5)\n",
      "Tuple even Items is:  (2, 4, 6)\n",
      "Tuple reversed Items is:  (6, 5, 4, 3, 2, 1)\n"
     ]
    }
   ],
   "source": [
    "tuple1 = (1,2,3,4,5,6)\n",
    "print(\"3rd Item in tuple is: \", tuple1[2]) # Indexed Item\n",
    "print(\"Tuple from 2nd Item is: \", tuple1[2:])\n",
    "print(\"Tuple from 2nd to 4th Item is: \", tuple1[2:5])\n",
    "print(\"Tuple odd Items is: \", tuple1[::2])\n",
    "print(\"Tuple even Items is: \", tuple1[1::2])\n",
    "print(\"Tuple reversed Items is: \", tuple1[-1::-1])"
   ]
  },
  {
   "cell_type": "code",
   "execution_count": 22,
   "metadata": {},
   "outputs": [],
   "source": [
    "\n",
    "song_tuple = ('Survival','Nonstop','Elevate','Emotionless',\"God's Plan\"\n",
    "\"I'm Upset\",'8 Out Of 10','Mob Ties')"
   ]
  },
  {
   "cell_type": "code",
   "execution_count": 23,
   "metadata": {},
   "outputs": [
    {
     "data": {
      "text/plain": [
       "'Emotionless'"
      ]
     },
     "execution_count": 23,
     "metadata": {},
     "output_type": "execute_result"
    }
   ],
   "source": [
    "song_tuple[3]"
   ]
  },
  {
   "cell_type": "code",
   "execution_count": 24,
   "metadata": {},
   "outputs": [
    {
     "ename": "TypeError",
     "evalue": "'tuple' object does not support item assignment",
     "output_type": "error",
     "traceback": [
      "\u001b[1;31m---------------------------------------------------------------------------\u001b[0m",
      "\u001b[1;31mTypeError\u001b[0m                                 Traceback (most recent call last)",
      "\u001b[1;32m<ipython-input-24-c1b6200a9ca3>\u001b[0m in \u001b[0;36m<module>\u001b[1;34m\u001b[0m\n\u001b[1;32m----> 1\u001b[1;33m \u001b[0msong_tuple\u001b[0m\u001b[1;33m[\u001b[0m\u001b[1;36m3\u001b[0m\u001b[1;33m]\u001b[0m \u001b[1;33m=\u001b[0m \u001b[1;34m'In my feelings'\u001b[0m\u001b[1;33m\u001b[0m\u001b[1;33m\u001b[0m\u001b[0m\n\u001b[0m",
      "\u001b[1;31mTypeError\u001b[0m: 'tuple' object does not support item assignment"
     ]
    }
   ],
   "source": [
    "song_tuple[3] = 'In my feelings'"
   ]
  },
  {
   "cell_type": "code",
   "execution_count": 25,
   "metadata": {},
   "outputs": [
    {
     "data": {
      "text/plain": [
       "tuple"
      ]
     },
     "execution_count": 25,
     "metadata": {},
     "output_type": "execute_result"
    }
   ],
   "source": [
    "type(song_tuple)"
   ]
  },
  {
   "cell_type": "code",
   "execution_count": 26,
   "metadata": {},
   "outputs": [],
   "source": [
    "song_list = list(song_tuple)"
   ]
  },
  {
   "cell_type": "code",
   "execution_count": 27,
   "metadata": {},
   "outputs": [
    {
     "data": {
      "text/plain": [
       "list"
      ]
     },
     "execution_count": 27,
     "metadata": {},
     "output_type": "execute_result"
    }
   ],
   "source": [
    "type(song_list)"
   ]
  },
  {
   "cell_type": "code",
   "execution_count": 142,
   "metadata": {},
   "outputs": [
    {
     "name": "stdout",
     "output_type": "stream",
     "text": [
      "['Survival', 'Nonstop', 'Elevate', 'Emotionless', \"God's PlanI'm Upset\", '8 Out Of 10', 'Mob Ties']\n"
     ]
    }
   ],
   "source": [
    "print(song_list)"
   ]
  },
  {
   "cell_type": "code",
   "execution_count": 143,
   "metadata": {},
   "outputs": [
    {
     "data": {
      "text/plain": [
       "('Survival',\n",
       " 'Nonstop',\n",
       " 'Elevate',\n",
       " 'Emotionless',\n",
       " \"God's PlanI'm Upset\",\n",
       " '8 Out Of 10',\n",
       " 'Mob Ties')"
      ]
     },
     "execution_count": 143,
     "metadata": {},
     "output_type": "execute_result"
    }
   ],
   "source": [
    "tuple(song_list)"
   ]
  },
  {
   "cell_type": "code",
   "execution_count": 28,
   "metadata": {},
   "outputs": [
    {
     "name": "stdout",
     "output_type": "stream",
     "text": [
      "(10, 20)\n",
      "<class 'tuple'>\n"
     ]
    }
   ],
   "source": [
    "point = (10, 20)\n",
    "print(point)\n",
    "print(type(point))"
   ]
  },
  {
   "cell_type": "code",
   "execution_count": 29,
   "metadata": {},
   "outputs": [
    {
     "data": {
      "text/plain": [
       "10"
      ]
     },
     "execution_count": 29,
     "metadata": {},
     "output_type": "execute_result"
    }
   ],
   "source": [
    "# They can be sliced just like lists and strings:\n",
    "point[0]"
   ]
  },
  {
   "cell_type": "code",
   "execution_count": 30,
   "metadata": {},
   "outputs": [
    {
     "name": "stdout",
     "output_type": "stream",
     "text": [
      "x = 10\n",
      "y = 20\n"
     ]
    }
   ],
   "source": [
    "#Unpacking a variable is a common practice when iterating through Python data types. \n",
    "#Unpacking essentially allows us to simultaneously set new variables to items in a list, tuple, or dictionary.\n",
    "\n",
    "# Unpacking:\n",
    "x, y = point\n",
    "\n",
    "print(\"x = {}\".format(x))\n",
    "print(\"y = {}\".format(y))"
   ]
  },
  {
   "cell_type": "markdown",
   "metadata": {},
   "source": [
    "<a id='fun'></a>\n",
    "# Functions"
   ]
  },
  {
   "cell_type": "code",
   "execution_count": 34,
   "metadata": {},
   "outputs": [],
   "source": [
    "def hi():\n",
    "    print('Hello World!')"
   ]
  },
  {
   "cell_type": "code",
   "execution_count": 35,
   "metadata": {},
   "outputs": [
    {
     "name": "stdout",
     "output_type": "stream",
     "text": [
      "Hello World!\n"
     ]
    }
   ],
   "source": [
    "hi()"
   ]
  },
  {
   "cell_type": "code",
   "execution_count": 3,
   "metadata": {},
   "outputs": [],
   "source": [
    "def birth_date(month, day, year=2020):\n",
    "    bday = str(month) + '/' + str(day) + '/' + str(year)\n",
    "    print(bday)"
   ]
  },
  {
   "cell_type": "code",
   "execution_count": 7,
   "metadata": {},
   "outputs": [
    {
     "ename": "TypeError",
     "evalue": "birth_date() missing 1 required positional argument: 'month'",
     "output_type": "error",
     "traceback": [
      "\u001b[1;31m---------------------------------------------------------------------------\u001b[0m",
      "\u001b[1;31mTypeError\u001b[0m                                 Traceback (most recent call last)",
      "\u001b[1;32m<ipython-input-7-b23c2542735f>\u001b[0m in \u001b[0;36m<module>\u001b[1;34m\u001b[0m\n\u001b[1;32m----> 1\u001b[1;33m \u001b[0mbirth_date\u001b[0m\u001b[1;33m(\u001b[0m\u001b[0mday\u001b[0m \u001b[1;33m=\u001b[0m \u001b[1;36m5\u001b[0m\u001b[1;33m,\u001b[0m \u001b[0myear\u001b[0m \u001b[1;33m=\u001b[0m \u001b[1;36m1979\u001b[0m\u001b[1;33m)\u001b[0m\u001b[1;33m\u001b[0m\u001b[1;33m\u001b[0m\u001b[0m\n\u001b[0m",
      "\u001b[1;31mTypeError\u001b[0m: birth_date() missing 1 required positional argument: 'month'"
     ]
    }
   ],
   "source": [
    "birth_date(day = 5, year = 1979)"
   ]
  },
  {
   "cell_type": "code",
   "execution_count": 6,
   "metadata": {},
   "outputs": [
    {
     "name": "stdout",
     "output_type": "stream",
     "text": [
      "5/11/2020\n"
     ]
    }
   ],
   "source": [
    "birth_date(5, 11)"
   ]
  },
  {
   "cell_type": "code",
   "execution_count": 40,
   "metadata": {},
   "outputs": [
    {
     "name": "stdout",
     "output_type": "stream",
     "text": [
      "Sum is  8\n"
     ]
    }
   ],
   "source": [
    "def add(x,y):\n",
    "    return x+y\n",
    "print(\"Sum is \",add(3,5))\n",
    "\n"
   ]
  },
  {
   "cell_type": "code",
   "execution_count": 41,
   "metadata": {},
   "outputs": [
    {
     "name": "stdout",
     "output_type": "stream",
     "text": [
      "Factorial of the number is: 720\n"
     ]
    }
   ],
   "source": [
    "def fact(n):\n",
    "    f=1\n",
    "    for i in range(1,n+1):\n",
    "        f=f*i\n",
    "    return f\n",
    "\n",
    "print(\"Factorial of the number is:\",fact(6))\n",
    "\n"
   ]
  },
  {
   "cell_type": "code",
   "execution_count": 42,
   "metadata": {},
   "outputs": [
    {
     "data": {
      "text/plain": [
       "['f', 't', 'h', 'm']"
      ]
     },
     "execution_count": 42,
     "metadata": {},
     "output_type": "execute_result"
    }
   ],
   "source": [
    "#find mistake\n",
    "word=['f','a','t','h','i','m','a']\n",
    "def count_vow(word):\n",
    "    for i in word:\n",
    "        if(i=='a'or i=='e'or i=='i'or i=='o'or i=='u'):\n",
    "            word.remove(i)\n",
    "    return word         \n",
    "count_vow(word)"
   ]
  },
  {
   "cell_type": "code",
   "execution_count": 7,
   "metadata": {},
   "outputs": [],
   "source": [
    "test_list = [8, 1, -4, 8, -1]"
   ]
  },
  {
   "cell_type": "code",
   "execution_count": 8,
   "metadata": {},
   "outputs": [],
   "source": [
    "def first_negative(list_of_numbers):\n",
    "    '''\n",
    "    This function takes in a list and \n",
    "    returns the first negative number in \n",
    "    list.\n",
    "    \n",
    "    Arguments\n",
    "    ---------\n",
    "    list_of_numbers: list type\n",
    "    \n",
    "    Returns\n",
    "    -------\n",
    "    int type, smallest value in list\n",
    "    '''\n",
    "    #loop over the list of numbers\n",
    "    for num in list_of_numbers:\n",
    "        if num < 0: #check if number is negative\n",
    "            print(num) #print the number\n",
    "            return num  #return the number"
   ]
  },
  {
   "cell_type": "code",
   "execution_count": 9,
   "metadata": {},
   "outputs": [
    {
     "name": "stdout",
     "output_type": "stream",
     "text": [
      "-4\n"
     ]
    },
    {
     "data": {
      "text/plain": [
       "-4"
      ]
     },
     "execution_count": 9,
     "metadata": {},
     "output_type": "execute_result"
    }
   ],
   "source": [
    "first_negative(test_list)"
   ]
  },
  {
   "cell_type": "code",
   "execution_count": 20,
   "metadata": {},
   "outputs": [],
   "source": [
    "sentence = \"A MAN KNOCKED ON MY DOOR AND ASKED FOR A SMALL DONATION TOWARDS THE LOCAL SWIMMING POOL SO I GAVE HIM A GLASS OF WATER\""
   ]
  },
  {
   "cell_type": "code",
   "execution_count": 21,
   "metadata": {},
   "outputs": [],
   "source": [
    "def vowel_counter(word):\n",
    "    '''\n",
    "    This function takes in a word and \n",
    "    counts how many vowels\n",
    "    '''\n",
    "    count = 0\n",
    "    for letter in word:\n",
    "        if letter in 'aeiouAEIOU':\n",
    "#         if letter in ['a', 'e', 'i', 'o', 'u']:\n",
    "            count += 1\n",
    "    return count"
   ]
  },
  {
   "cell_type": "code",
   "execution_count": 22,
   "metadata": {},
   "outputs": [
    {
     "name": "stdout",
     "output_type": "stream",
     "text": [
      "36\n"
     ]
    }
   ],
   "source": [
    "print(vowel_counter(sentence))"
   ]
  },
  {
   "cell_type": "markdown",
   "metadata": {},
   "source": [
    "Code a function called \"add_three\"\n",
    "\n",
    "ACCEPT  three inputs, all numbers (floats or ints)\n",
    "\n",
    "RETURN the sum of the three numbers added together."
   ]
  },
  {
   "cell_type": "markdown",
   "metadata": {},
   "source": [
    "Build a function called 'cap_first'\n",
    "\n",
    "ACCEPT a non-empty string input.\n",
    "\n",
    "RETURN that same string, with first letter capitalized,and all subsequent letters in lower-case."
   ]
  },
  {
   "cell_type": "markdown",
   "metadata": {},
   "source": [
    "<a id='que'></a>\n",
    "# Questions on for the above concepts"
   ]
  },
  {
   "cell_type": "markdown",
   "metadata": {},
   "source": [
    "1. What are the types of the following variables?\n",
    "\n",
    "    a = 1\n",
    "\n",
    "    b = 2.6\n",
    "\n",
    "    c = [1,2,3,5,6]\n",
    "    \n",
    "    d = {'val': 'kilmer', 'reggie':'bush'}\n",
    "    \n",
    "    e = ('one', 'two', 'three')\n",
    "    \n",
    "    f = {1:{'key':'value'}, 2:{'key2':'value2'}}\n",
    "    \n",
    "    g = True\n",
    "    \n",
    "    h = False\n",
    "    \n",
    "    i = 'integer'"
   ]
  },
  {
   "cell_type": "markdown",
   "metadata": {},
   "source": [
    "2. What is the difference between a \"mutable\" and \"immutable\" object?"
   ]
  },
  {
   "cell_type": "code",
   "execution_count": 10,
   "metadata": {},
   "outputs": [],
   "source": [
    "court_shows = [\"America's Court with Judge Ross\",\n",
    "              \"The Blame Game\",\n",
    "              \"Couples Court with The Cutlers\",\n",
    "              \"Divorce Court\",\n",
    "              \"Guy Court\",\n",
    "              \"Hot Bench\",\n",
    "              \"Judge Wapner's Animal Court\"]"
   ]
  },
  {
   "cell_type": "markdown",
   "metadata": {},
   "source": [
    "3. Print the court_show list"
   ]
  },
  {
   "cell_type": "markdown",
   "metadata": {},
   "source": [
    "4. Print the names of the first and last shows in the list."
   ]
  },
  {
   "cell_type": "markdown",
   "metadata": {},
   "source": [
    "5. Print the first five shows in the list."
   ]
  },
  {
   "cell_type": "markdown",
   "metadata": {},
   "source": [
    "6. Append an animal to the list of animals."
   ]
  },
  {
   "cell_type": "code",
   "execution_count": 13,
   "metadata": {},
   "outputs": [],
   "source": [
    "animals = ['duck', 'rat', 'boar', 'slug', 'mammoth', 'gazelle']"
   ]
  },
  {
   "cell_type": "markdown",
   "metadata": {},
   "source": [
    "7. Divide the length of the fifth animal by the second."
   ]
  },
  {
   "cell_type": "markdown",
   "metadata": {},
   "source": [
    "8. Count the number of times 0 appears in the following list"
   ]
  },
  {
   "cell_type": "markdown",
   "metadata": {},
   "source": [
    "binary = [0,1,1,0,1,0,1,1,1,1,0,0,1,0,0,1,0,1,1,0,0,1,1,0,1,1,0,0,0,1,1,1,0,1,0,1]"
   ]
  },
  {
   "cell_type": "markdown",
   "metadata": {},
   "source": [
    "<a id='dict'></a>\n",
    "# Dictionaries\n",
    "Dictionaries are a non-ordered Python data type. Instead of using an ordered index to access data stored in a dictionary, we use a system of key-value pairs.\n",
    "\n",
    "A key is similar to a variable name.\n",
    "\n",
    "A value is similar to the value assigned to the variable.\n",
    "\n",
    "Curly braces ({ }) enclose dictionaries. Note: You can also use curly braces to construct a set. The first input in a dictionary pair is the \"key.\" The second input in a dictionary pair is the \"value.\" The general format looks like this:"
   ]
  },
  {
   "cell_type": "code",
   "execution_count": 1,
   "metadata": {},
   "outputs": [
    {
     "name": "stdout",
     "output_type": "stream",
     "text": [
      "<class 'dict'>\n",
      "{'key1': 1.0, 'key2': 2.0, 'key3': 3.0}\n"
     ]
    }
   ],
   "source": [
    "params = {\"key1\" : 1.0,\n",
    "          \"key2\" : 2.0,\n",
    "          \"key3\" : 3.0,}\n",
    "\n",
    "print(type(params))\n",
    "print(params)"
   ]
  },
  {
   "cell_type": "code",
   "execution_count": 2,
   "metadata": {},
   "outputs": [
    {
     "data": {
      "text/plain": [
       "2.0"
      ]
     },
     "execution_count": 2,
     "metadata": {},
     "output_type": "execute_result"
    }
   ],
   "source": [
    "# Value for parameter2 in the params dictionary:\n",
    "params[\"key2\"]"
   ]
  },
  {
   "cell_type": "code",
   "execution_count": 3,
   "metadata": {},
   "outputs": [],
   "source": [
    "# Adding a new dictionary entry:\n",
    "params[\"key4\"] = \"D\""
   ]
  },
  {
   "cell_type": "code",
   "execution_count": 4,
   "metadata": {},
   "outputs": [
    {
     "name": "stdout",
     "output_type": "stream",
     "text": [
      "{'key1': 1.0, 'key2': 2.0, 'key3': 3.0, 'key4': 'D'}\n"
     ]
    }
   ],
   "source": [
    "# Print the entirety of the dictionary:\n",
    "print(params)"
   ]
  },
  {
   "cell_type": "code",
   "execution_count": 5,
   "metadata": {},
   "outputs": [],
   "source": [
    "# Reassigning the value of a key-value pair in the dictionary:\n",
    "params[\"key1\"] = \"A\"\n",
    "params[\"key2\"] = \"B\""
   ]
  },
  {
   "cell_type": "code",
   "execution_count": 6,
   "metadata": {},
   "outputs": [
    {
     "name": "stdout",
     "output_type": "stream",
     "text": [
      "{'key1': 'A', 'key2': 'B', 'key3': 3.0, 'key4': 'D'}\n"
     ]
    }
   ],
   "source": [
    "print(params)"
   ]
  },
  {
   "cell_type": "code",
   "execution_count": 7,
   "metadata": {},
   "outputs": [
    {
     "data": {
      "text/plain": [
       "[('key1', 'A'), ('key2', 'B'), ('key3', 3.0), ('key4', 'D')]"
      ]
     },
     "execution_count": 7,
     "metadata": {},
     "output_type": "execute_result"
    }
   ],
   "source": [
    "# Dictionaries also have methods.\n",
    "\n",
    "# Convert a dictionary to a list of tuples (key-value pairs).\n",
    "# This is later used to conveniently loop through a dictionary:\n",
    "list(params.items())"
   ]
  },
  {
   "cell_type": "code",
   "execution_count": 14,
   "metadata": {},
   "outputs": [],
   "source": [
    "tel = {'jack': 4098, 'sape': 4139}"
   ]
  },
  {
   "cell_type": "code",
   "execution_count": 15,
   "metadata": {},
   "outputs": [
    {
     "data": {
      "text/plain": [
       "dict"
      ]
     },
     "execution_count": 15,
     "metadata": {},
     "output_type": "execute_result"
    }
   ],
   "source": [
    "type(tel)"
   ]
  },
  {
   "cell_type": "code",
   "execution_count": 16,
   "metadata": {},
   "outputs": [
    {
     "data": {
      "text/plain": [
       "4098"
      ]
     },
     "execution_count": 16,
     "metadata": {},
     "output_type": "execute_result"
    }
   ],
   "source": [
    "tel['jack'] "
   ]
  },
  {
   "cell_type": "code",
   "execution_count": 17,
   "metadata": {},
   "outputs": [
    {
     "data": {
      "text/plain": [
       "{'jack': 4098, 'sape': 4139, 'guido': 4127}"
      ]
     },
     "execution_count": 17,
     "metadata": {},
     "output_type": "execute_result"
    }
   ],
   "source": [
    "#reassigning guide key\n",
    "tel['guido'] = 4127\n",
    "tel"
   ]
  },
  {
   "cell_type": "code",
   "execution_count": 18,
   "metadata": {},
   "outputs": [
    {
     "data": {
      "text/plain": [
       "{'jack': 4098, 'guido': 4127, 'irv': 4127}"
      ]
     },
     "execution_count": 18,
     "metadata": {},
     "output_type": "execute_result"
    }
   ],
   "source": [
    "del tel['sape']\n",
    "tel['irv'] = 4127# artists['denre']['albums']='hello'\n",
    "tel"
   ]
  },
  {
   "cell_type": "code",
   "execution_count": 20,
   "metadata": {},
   "outputs": [
    {
     "data": {
      "text/plain": [
       "['jack', 'guido', 'irv']"
      ]
     },
     "execution_count": 20,
     "metadata": {},
     "output_type": "execute_result"
    }
   ],
   "source": [
    "list(tel)"
   ]
  },
  {
   "cell_type": "code",
   "execution_count": 21,
   "metadata": {},
   "outputs": [
    {
     "data": {
      "text/plain": [
       "['guido', 'irv', 'jack']"
      ]
     },
     "execution_count": 21,
     "metadata": {},
     "output_type": "execute_result"
    }
   ],
   "source": [
    "sorted(tel)"
   ]
  },
  {
   "cell_type": "code",
   "execution_count": 23,
   "metadata": {},
   "outputs": [
    {
     "data": {
      "text/plain": [
       "True"
      ]
     },
     "execution_count": 23,
     "metadata": {},
     "output_type": "execute_result"
    }
   ],
   "source": [
    "'guido' in tel"
   ]
  },
  {
   "cell_type": "code",
   "execution_count": 24,
   "metadata": {},
   "outputs": [
    {
     "data": {
      "text/plain": [
       "False"
      ]
     },
     "execution_count": 24,
     "metadata": {},
     "output_type": "execute_result"
    }
   ],
   "source": [
    "'jack' not in tel"
   ]
  },
  {
   "cell_type": "code",
   "execution_count": 25,
   "metadata": {},
   "outputs": [],
   "source": [
    "#Another way of dectionary creation\n",
    "d = dict([('sape', 4139), ('guido', 4127), ('jack', 4098)])"
   ]
  },
  {
   "cell_type": "code",
   "execution_count": 26,
   "metadata": {},
   "outputs": [
    {
     "data": {
      "text/plain": [
       "{'sape': 4139, 'guido': 4127, 'jack': 4098}"
      ]
     },
     "execution_count": 26,
     "metadata": {},
     "output_type": "execute_result"
    }
   ],
   "source": [
    "d"
   ]
  },
  {
   "cell_type": "code",
   "execution_count": 27,
   "metadata": {},
   "outputs": [
    {
     "data": {
      "text/plain": [
       "dict_keys(['sape', 'guido', 'jack'])"
      ]
     },
     "execution_count": 27,
     "metadata": {},
     "output_type": "execute_result"
    }
   ],
   "source": [
    "d.keys()"
   ]
  },
  {
   "cell_type": "code",
   "execution_count": 28,
   "metadata": {},
   "outputs": [
    {
     "data": {
      "text/plain": [
       "dict_keys(['jack', 'guido', 'irv'])"
      ]
     },
     "execution_count": 28,
     "metadata": {},
     "output_type": "execute_result"
    }
   ],
   "source": [
    "tel.keys()"
   ]
  },
  {
   "cell_type": "code",
   "execution_count": 29,
   "metadata": {},
   "outputs": [
    {
     "data": {
      "text/plain": [
       "dict_values([4098, 4127, 4127])"
      ]
     },
     "execution_count": 29,
     "metadata": {},
     "output_type": "execute_result"
    }
   ],
   "source": [
    "tel.values()"
   ]
  },
  {
   "cell_type": "code",
   "execution_count": 30,
   "metadata": {},
   "outputs": [
    {
     "data": {
      "text/plain": [
       "dict_items([('jack', 4098), ('guido', 4127), ('irv', 4127)])"
      ]
     },
     "execution_count": 30,
     "metadata": {},
     "output_type": "execute_result"
    }
   ],
   "source": [
    "tel.items()"
   ]
  },
  {
   "cell_type": "code",
   "execution_count": 31,
   "metadata": {},
   "outputs": [],
   "source": [
    "artists = {\n",
    "    'Drake': {\n",
    "        'genre': 'Pop',\n",
    "        'albums': [\"God's Plan\", \"Scorpion\", \"Care Package\"],\n",
    "        'on_tour': True\n",
    "    },\n",
    "    'Kraftwerk':{\n",
    "        'genre': 'Electronic',\n",
    "        'albums': ['Manmachine', 'Computerworld', 'Autobahn'],\n",
    "        'on_tour': False\n",
    "    },\n",
    "    'Melt-Banana':{\n",
    "        'genre': 'Power Violence',\n",
    "        'albums': ['Scratch or Stitch', 'MxBx', 'Speak Squeak Creak'],\n",
    "        'on_tour': True\n",
    "    }\n",
    "}"
   ]
  },
  {
   "cell_type": "code",
   "execution_count": 32,
   "metadata": {},
   "outputs": [
    {
     "data": {
      "text/plain": [
       "'Scorpion'"
      ]
     },
     "execution_count": 32,
     "metadata": {},
     "output_type": "execute_result"
    }
   ],
   "source": [
    "#what is Drake's second album?\n",
    "artists['Drake']['albums'][1]"
   ]
  },
  {
   "cell_type": "code",
   "execution_count": 33,
   "metadata": {},
   "outputs": [
    {
     "data": {
      "text/plain": [
       "['Scratch or Stitch', 'MxBx', 'Speak Squeak Creak']"
      ]
     },
     "execution_count": 33,
     "metadata": {},
     "output_type": "execute_result"
    }
   ],
   "source": [
    "#I would like to know Melt-Banana's albums\n",
    "artists['Melt-Banana']['albums']"
   ]
  },
  {
   "cell_type": "markdown",
   "metadata": {},
   "source": [
    "# Questions on dictionaries"
   ]
  },
  {
   "cell_type": "markdown",
   "metadata": {},
   "source": [
    "1. Create an New York zipcode dictionary.\n",
    "\n",
    "    With the following key:value pairs:\n",
    "\n",
    "        'wall_street': 10005\n",
    "\n",
    "        'chinatown': 10013\n",
    "\n",
    "        'harlem':10031\n",
    "\n",
    "        'katonah':10536"
   ]
  },
  {
   "cell_type": "markdown",
   "metadata": {},
   "source": [
    "2. Add scotia to the dictionary with zipcode 12302."
   ]
  },
  {
   "cell_type": "markdown",
   "metadata": {},
   "source": [
    "3. Get the zipcode for 'chinatown', and assign it to a variable."
   ]
  },
  {
   "cell_type": "markdown",
   "metadata": {},
   "source": [
    "4. Get the keys out of the dictionary"
   ]
  },
  {
   "cell_type": "markdown",
   "metadata": {},
   "source": [
    "5. Get the key:value pairs out of the dictionary as a list of tuples."
   ]
  },
  {
   "cell_type": "markdown",
   "metadata": {},
   "source": [
    "<a id='sets'></a>\n",
    "# Sets"
   ]
  },
  {
   "cell_type": "code",
   "execution_count": 2,
   "metadata": {},
   "outputs": [],
   "source": [
    "v1 = {'A', 'B', 'A', 'A', 'B'}"
   ]
  },
  {
   "cell_type": "code",
   "execution_count": 3,
   "metadata": {},
   "outputs": [
    {
     "data": {
      "text/plain": [
       "{'A', 'B'}"
      ]
     },
     "execution_count": 3,
     "metadata": {},
     "output_type": "execute_result"
    }
   ],
   "source": [
    "v1"
   ]
  },
  {
   "cell_type": "code",
   "execution_count": 4,
   "metadata": {},
   "outputs": [],
   "source": [
    "lyrics = '''And still\n",
    "Bad things\n",
    "It's a lot of bad things\n",
    "That they wishin' and wishin' and wishin' and wishin'\n",
    "They wishin' on me\n",
    "Bad things\n",
    "It's a lot of bad things\n",
    "That they wishin' and wishin' and wishin' and wishin'\n",
    "They wishin' on me\n",
    "Yuh, ayy, ayy\n",
    "'''"
   ]
  },
  {
   "cell_type": "code",
   "execution_count": 5,
   "metadata": {},
   "outputs": [
    {
     "data": {
      "text/plain": [
       "242"
      ]
     },
     "execution_count": 5,
     "metadata": {},
     "output_type": "execute_result"
    }
   ],
   "source": [
    "len(lyrics)"
   ]
  },
  {
   "cell_type": "code",
   "execution_count": 6,
   "metadata": {},
   "outputs": [],
   "source": [
    "words = lyrics.split()"
   ]
  },
  {
   "cell_type": "code",
   "execution_count": 25,
   "metadata": {},
   "outputs": [
    {
     "data": {
      "text/plain": [
       "['And',\n",
       " 'still',\n",
       " 'Bad',\n",
       " 'things',\n",
       " \"It's\",\n",
       " 'a',\n",
       " 'lot',\n",
       " 'of',\n",
       " 'bad',\n",
       " 'things',\n",
       " 'That',\n",
       " 'they',\n",
       " \"wishin'\",\n",
       " 'and',\n",
       " \"wishin'\",\n",
       " 'and',\n",
       " \"wishin'\",\n",
       " 'and',\n",
       " \"wishin'\",\n",
       " 'They',\n",
       " \"wishin'\",\n",
       " 'on',\n",
       " 'me',\n",
       " 'Bad',\n",
       " 'things',\n",
       " \"It's\",\n",
       " 'a',\n",
       " 'lot',\n",
       " 'of',\n",
       " 'bad',\n",
       " 'things',\n",
       " 'That',\n",
       " 'they',\n",
       " \"wishin'\",\n",
       " 'and',\n",
       " \"wishin'\",\n",
       " 'and',\n",
       " \"wishin'\",\n",
       " 'and',\n",
       " \"wishin'\",\n",
       " 'They',\n",
       " \"wishin'\",\n",
       " 'on',\n",
       " 'me',\n",
       " 'Yuh,',\n",
       " 'ayy,',\n",
       " 'ayy']"
      ]
     },
     "execution_count": 25,
     "metadata": {},
     "output_type": "execute_result"
    }
   ],
   "source": [
    "words"
   ]
  },
  {
   "cell_type": "code",
   "execution_count": 7,
   "metadata": {},
   "outputs": [
    {
     "data": {
      "text/plain": [
       "['And', 'still', 'Bad', 'things', \"It's\", 'a', 'lot', 'of', 'bad', 'things']"
      ]
     },
     "execution_count": 7,
     "metadata": {},
     "output_type": "execute_result"
    }
   ],
   "source": [
    "words[:10]"
   ]
  },
  {
   "cell_type": "code",
   "execution_count": 8,
   "metadata": {},
   "outputs": [
    {
     "data": {
      "text/plain": [
       "47"
      ]
     },
     "execution_count": 8,
     "metadata": {},
     "output_type": "execute_result"
    }
   ],
   "source": [
    "len(words)"
   ]
  },
  {
   "cell_type": "code",
   "execution_count": 9,
   "metadata": {},
   "outputs": [
    {
     "data": {
      "text/plain": [
       "{'And',\n",
       " 'Bad',\n",
       " \"It's\",\n",
       " 'That',\n",
       " 'They',\n",
       " 'Yuh,',\n",
       " 'a',\n",
       " 'and',\n",
       " 'ayy',\n",
       " 'ayy,',\n",
       " 'bad',\n",
       " 'lot',\n",
       " 'me',\n",
       " 'of',\n",
       " 'on',\n",
       " 'still',\n",
       " 'they',\n",
       " 'things',\n",
       " \"wishin'\"}"
      ]
     },
     "execution_count": 9,
     "metadata": {},
     "output_type": "execute_result"
    }
   ],
   "source": [
    "set(words)"
   ]
  },
  {
   "cell_type": "code",
   "execution_count": 11,
   "metadata": {},
   "outputs": [
    {
     "data": {
      "text/plain": [
       "19"
      ]
     },
     "execution_count": 11,
     "metadata": {},
     "output_type": "execute_result"
    }
   ],
   "source": [
    "len(set(words))"
   ]
  },
  {
   "cell_type": "code",
   "execution_count": 125,
   "metadata": {},
   "outputs": [
    {
     "name": "stdout",
     "output_type": "stream",
     "text": [
      "0.40425531914893614\n"
     ]
    }
   ],
   "source": [
    "lexical_diversity = len(set(words))/len(words)\n",
    "print(lexical_diversity)"
   ]
  },
  {
   "cell_type": "code",
   "execution_count": 126,
   "metadata": {},
   "outputs": [
    {
     "name": "stdout",
     "output_type": "stream",
     "text": [
      "This verse of Drake is 0.40\n"
     ]
    }
   ],
   "source": [
    "###print the lexical diversity rounded to two decimals\n",
    "print(f'This verse of Drake is {lexical_diversity:.2f}')"
   ]
  },
  {
   "cell_type": "code",
   "execution_count": 12,
   "metadata": {},
   "outputs": [],
   "source": [
    "words = {'a', 'new', 'set', 'of', 'words'}"
   ]
  },
  {
   "cell_type": "code",
   "execution_count": 13,
   "metadata": {},
   "outputs": [],
   "source": [
    "words.add('G.O.D')"
   ]
  },
  {
   "cell_type": "code",
   "execution_count": 14,
   "metadata": {},
   "outputs": [
    {
     "data": {
      "text/plain": [
       "{'G.O.D', 'a', 'new', 'of', 'set', 'words'}"
      ]
     },
     "execution_count": 14,
     "metadata": {},
     "output_type": "execute_result"
    }
   ],
   "source": [
    "words"
   ]
  },
  {
   "cell_type": "code",
   "execution_count": 15,
   "metadata": {},
   "outputs": [],
   "source": [
    "words.remove('words')"
   ]
  },
  {
   "cell_type": "code",
   "execution_count": 16,
   "metadata": {},
   "outputs": [
    {
     "data": {
      "text/plain": [
       "{'G.O.D', 'a', 'new', 'of', 'set'}"
      ]
     },
     "execution_count": 16,
     "metadata": {},
     "output_type": "execute_result"
    }
   ],
   "source": [
    "words"
   ]
  },
  {
   "cell_type": "code",
   "execution_count": 17,
   "metadata": {},
   "outputs": [],
   "source": [
    "other_words = {'another', 'set', 'of', 'new', 'words'}"
   ]
  },
  {
   "cell_type": "code",
   "execution_count": 18,
   "metadata": {},
   "outputs": [
    {
     "data": {
      "text/plain": [
       "{'new', 'of', 'set'}"
      ]
     },
     "execution_count": 18,
     "metadata": {},
     "output_type": "execute_result"
    }
   ],
   "source": [
    "words.intersection(other_words)"
   ]
  },
  {
   "cell_type": "code",
   "execution_count": 19,
   "metadata": {},
   "outputs": [
    {
     "data": {
      "text/plain": [
       "{'G.O.D', 'a', 'another', 'new', 'of', 'set', 'words'}"
      ]
     },
     "execution_count": 19,
     "metadata": {},
     "output_type": "execute_result"
    }
   ],
   "source": [
    "words.union(other_words)"
   ]
  },
  {
   "cell_type": "code",
   "execution_count": 20,
   "metadata": {},
   "outputs": [
    {
     "name": "stdout",
     "output_type": "stream",
     "text": [
      "{8, 1, 3, 7}\n"
     ]
    }
   ],
   "source": [
    "x1 = {9,5,6,3,7,8,1}\n",
    "x2 = {7,1,3,2,0,4,8}\n",
    "x1.symmetric_difference(x2)\n",
    "print(x1.intersection(x2))"
   ]
  },
  {
   "cell_type": "markdown",
   "metadata": {},
   "source": [
    "<a id='quer'></a>\n",
    "# Queries and Inputs"
   ]
  },
  {
   "cell_type": "code",
   "execution_count": 2,
   "metadata": {},
   "outputs": [],
   "source": [
    "#a,b,c=55\n",
    "#a,b,c = 55,55,55\n",
    "#a=b=c=55\n",
    "#a=55;b=a;c=b\n",
    "#x=45\n",
    "#y=7\n",
    "#x%=y\n",
    "#print(x)\n",
    "#a=4**3\n",
    "#b=pow(4,3)\n",
    "#print(a,b)\n",
    "#x=8\n",
    "#if x>8:\n",
    "#    print(20)\n",
    "#else:\n",
    "#    print(10)\n",
    "    \n",
    "#int('10.8')\n",
    "#float(10)\n",
    "#int(10)\n",
    "#float(10.8)"
   ]
  },
  {
   "cell_type": "code",
   "execution_count": 1,
   "metadata": {},
   "outputs": [
    {
     "data": {
      "text/plain": [
       "{1: 'one', 2: 'two', 3: 'three', 4: 'four'}"
      ]
     },
     "execution_count": 1,
     "metadata": {},
     "output_type": "execute_result"
    }
   ],
   "source": [
    "keys = [1,2,3,4]\n",
    "values = ['one', 'two','three','four']\n",
    "zipdict = dict(zip(keys, values))\n",
    "zipdict"
   ]
  },
  {
   "cell_type": "code",
   "execution_count": 3,
   "metadata": {},
   "outputs": [
    {
     "data": {
      "text/plain": [
       "dict_values(['one', 'two', 'three', 'four'])"
      ]
     },
     "execution_count": 3,
     "metadata": {},
     "output_type": "execute_result"
    }
   ],
   "source": [
    "zipdict.values()"
   ]
  },
  {
   "cell_type": "code",
   "execution_count": 4,
   "metadata": {},
   "outputs": [
    {
     "data": {
      "text/plain": [
       "'shyamala'"
      ]
     },
     "execution_count": 4,
     "metadata": {},
     "output_type": "execute_result"
    }
   ],
   "source": [
    "dict={19:\"shyamala\",20:\"dhgya\",21:\"xvbn\"}\n",
    "dict.get(19)"
   ]
  },
  {
   "cell_type": "code",
   "execution_count": 5,
   "metadata": {},
   "outputs": [
    {
     "data": {
      "text/plain": [
       "'shyamala'"
      ]
     },
     "execution_count": 5,
     "metadata": {},
     "output_type": "execute_result"
    }
   ],
   "source": [
    "dict[19]"
   ]
  },
  {
   "cell_type": "code",
   "execution_count": null,
   "metadata": {},
   "outputs": [],
   "source": []
  }
 ],
 "metadata": {
  "kernelspec": {
   "display_name": "Python 3 (ipykernel)",
   "language": "python",
   "name": "python3"
  },
  "language_info": {
   "codemirror_mode": {
    "name": "ipython",
    "version": 3
   },
   "file_extension": ".py",
   "mimetype": "text/x-python",
   "name": "python",
   "nbconvert_exporter": "python",
   "pygments_lexer": "ipython3",
   "version": "3.11.5"
  }
 },
 "nbformat": 4,
 "nbformat_minor": 2
}
